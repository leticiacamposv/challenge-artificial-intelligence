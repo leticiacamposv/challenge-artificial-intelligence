{
 "cells": [
  {
   "cell_type": "markdown",
   "metadata": {},
   "source": [
    "# Desafio +A Educação - Engenheiro de Inteligência Artificial\n",
    "\n",
    "Este notebook contempla as etapas e soluções requeridas no desafio pontuadas no README.md na pasta raiz e estruturadas de acordo\n",
    "\n",
    "*Autora*: Leticia Campos Valente"
   ]
  },
  {
   "cell_type": "markdown",
   "metadata": {},
   "source": [
    "## Etapa 1: Indexação dos dados"
   ]
  },
  {
   "cell_type": "markdown",
   "metadata": {},
   "source": [
    "**Enunciado**:\\\n",
    "\"Defina a ferramenta de indexação que considere adequada para o projeto. Recomenda-se escolher uma ferramenta que possa suportar a geração dinâmica de conteúdos adaptativos no prompt de IA generativa. Indexe os diferentes tipos de dados para permitir uma busca eficiente e relevante.\"\n",
    "\n",
    "**Conjunto de dados**: \\\n",
    "Textos: Uma coleção de textos extraídos de módulos de aprendizagem.\n",
    "PDFs: Livros e manuais introdutórios sobre o conteúdo abordado.\n",
    "Vídeos: Pequenos vídeos de dicas de professor, que explicam o conteúdo abordado. Os vídeos estão em formatos .mp4\n",
    "\n",
    "\n",
    "Dadas as condições, opta-se pela ferramenta ElasticSearch pela eficiencia no armazenamento de documentação e integração em Langchain"
   ]
  },
  {
   "cell_type": "markdown",
   "metadata": {},
   "source": [
    " <u> Notas </u>\n",
    "\n",
    "1. Existem nesse código mais de uma estratégia para realizar, por exemplo, extração das keywords. Isso se dá porque o mesmo método que performa bem para o texto de exemplo não performou tão bem para os textos em pdf, etc. Além disso, inclui-se mais abordagens propositalmente para demonstrar os conhecimentos em cada estratégia\n",
    "2."
   ]
  },
  {
   "cell_type": "markdown",
   "metadata": {},
   "source": [
    "### 1.1 Pré-processamento de Texto"
   ]
  },
  {
   "cell_type": "markdown",
   "metadata": {},
   "source": [
    "É preciso primeiramente extrair as palavras chaves do texto para indexação conforme conteúdo e extração de frases relevantes. \n",
    "\n",
    "**Estratégia de extração de palavras-chave**: Term Frequency-Inverse Document Frequency (TF-IDF) \\\n",
    "**Estratégia de extração de frases mais relevantes**: Sentence ranking via spacy \n",
    "\n",
    "Escolheu-se utilizar abordagens de NLP simples ao invés do uso de um modelo pré-treinado BERT, por exemplo, por mera questão de simplicidade e eficiência para este documento de exemplo, mas em textos mais complexos, a autora consideraria a segunda opção.\n",
    "\n",
    "As funções se encontram no módulo source/text_utils.py"
   ]
  },
  {
   "cell_type": "code",
   "execution_count": 1,
   "metadata": {},
   "outputs": [],
   "source": [
    "import nltk\n",
    "from text_utils import latin_text_preprocessing, tfidf_keyword_extraction, text_most_relevant_prhases_extraction, extract_programming_language"
   ]
  },
  {
   "cell_type": "code",
   "execution_count": 2,
   "metadata": {},
   "outputs": [],
   "source": [
    "%%capture\n",
    "!python -m spacy download pt_core_news_sm"
   ]
  },
  {
   "cell_type": "code",
   "execution_count": 3,
   "metadata": {},
   "outputs": [
    {
     "name": "stderr",
     "output_type": "stream",
     "text": [
      "[nltk_data] Downloading package punkt to\n",
      "[nltk_data]     C:\\Users\\letic\\AppData\\Roaming\\nltk_data...\n",
      "[nltk_data]   Package punkt is already up-to-date!\n",
      "[nltk_data] Downloading package stopwords to\n",
      "[nltk_data]     C:\\Users\\letic\\AppData\\Roaming\\nltk_data...\n",
      "[nltk_data]   Package stopwords is already up-to-date!\n"
     ]
    }
   ],
   "source": [
    "%%capture\n",
    "nltk.download('punkt')\n",
    "nltk.download('stopwords')"
   ]
  },
  {
   "cell_type": "markdown",
   "metadata": {},
   "source": [
    "##### Execução"
   ]
  },
  {
   "cell_type": "code",
   "execution_count": 4,
   "metadata": {},
   "outputs": [],
   "source": [
    "text_path = '../resources/Apresentação.txt'\n",
    "with open(text_path, 'r') as text_file:\n",
    "    text_data = text_file.read()"
   ]
  },
  {
   "cell_type": "code",
   "execution_count": 5,
   "metadata": {},
   "outputs": [],
   "source": [
    "text_doc = {\n",
    "    'content':str(latin_text_preprocessing(text_data)),\n",
    "    'keywords':tfidf_keyword_extraction(text_data),\n",
    "    'relevant_phrases':text_most_relevant_prhases_extraction(text_data),\n",
    "    'programming_languages':extract_programming_language(text_data),\n",
    "    'text_path':text_path,\n",
    "    'format':'text'\n",
    "}"
   ]
  },
  {
   "cell_type": "code",
   "execution_count": 6,
   "metadata": {},
   "outputs": [
    {
     "data": {
      "text/plain": [
       "{'content': 'Sistemas desenvolvidos para a plataforma web utilizam a linguagem HTML para a exibição de conteúdo, tanto para páginas estáticas como dinâmicas. Com HTML5 é possível criar páginas web com diversos recursos para a apresentação de dados por meio de novas marcações que permitem o uso de semântica e acessibilidade, facilitando a pesquisa por motores de busca automática e dispositivos próprios para deficientes visuais e auditivos.\\n\\nNesta Unidade de Aprendizagem, você vai estudar a estrutura de páginas web, a formatação de texto em documentos hipertexto e a apresentação de links, listas e tabelas em HTML5.\\n\\nBons estudos.\\n\\nAo final desta Unidade de Aprendizagem, você deve apresentar os seguintes aprendizados:\\nDefinir a estrutura de uma página web com HTML5.\\nAplicar formatação de texto em uma página web com HTML5.\\nDesenvolver listas e tabelas em uma página web com HTML5.',\n",
       " 'keywords': ['página',\n",
       "  'web',\n",
       "  'html5',\n",
       "  'aprendizagem',\n",
       "  'apresentação',\n",
       "  'desenvolver',\n",
       "  'estrutura',\n",
       "  'formatação',\n",
       "  'lista',\n",
       "  'tabela'],\n",
       " 'relevant_phrases': ['Com HTML5 é possível criar páginas web com diversos recursos para a apresentação de dados por meio de novas marcações que permitem o uso de semântica e acessibilidade, facilitando a pesquisa por motores de busca automática e dispositivos próprios para deficientes visuais e auditivos.\\n\\n',\n",
       "  'Nesta Unidade de Aprendizagem, você vai estudar a estrutura de páginas web, a formatação de texto em documentos hipertexto e a apresentação de links, listas e tabelas em HTML5.\\n\\n',\n",
       "  'Sistemas desenvolvidos para a plataforma web utilizam a linguagem HTML para a exibição de conteúdo, tanto para páginas estáticas como dinâmicas.',\n",
       "  'Ao final desta Unidade de Aprendizagem, você deve apresentar os seguintes aprendizados:\\n',\n",
       "  'Aplicar formatação de texto em uma página web com HTML5.\\n',\n",
       "  'Definir a estrutura de uma página web com HTML5.\\n',\n",
       "  'Desenvolver listas e tabelas em uma página web com HTML5.',\n",
       "  'Bons estudos.\\n\\n'],\n",
       " 'programming_languages': ['html', 'html5'],\n",
       " 'text_path': '../resources/Apresentação.txt',\n",
       " 'format': 'text'}"
      ]
     },
     "execution_count": 6,
     "metadata": {},
     "output_type": "execute_result"
    }
   ],
   "source": [
    "text_doc"
   ]
  },
  {
   "cell_type": "markdown",
   "metadata": {},
   "source": [
    "### 1.2 Pré-processamento de PDF"
   ]
  },
  {
   "cell_type": "markdown",
   "metadata": {},
   "source": [
    "**Estratégia de extração de palavras-chave**: YAKE (Yet another keyword extractor) \\\n",
    "**Estratégia de extração de autor do texto**: NER ( Named Entity Recognition)\n",
    "\n",
    "\n",
    "As funções se encontram no módulo source/text_utils.py"
   ]
  },
  {
   "cell_type": "code",
   "execution_count": 7,
   "metadata": {},
   "outputs": [],
   "source": [
    "from text_utils import yake_keyword_extraction, ner_author_extractor\n",
    "from PyPDF2 import PdfReader"
   ]
  },
  {
   "cell_type": "markdown",
   "metadata": {},
   "source": [
    "##### Execução"
   ]
  },
  {
   "cell_type": "code",
   "execution_count": 8,
   "metadata": {},
   "outputs": [
    {
     "name": "stderr",
     "output_type": "stream",
     "text": [
      "unknown widths : \n",
      "[0, IndirectObject(176, 0, 2167199911264)]\n"
     ]
    }
   ],
   "source": [
    "pdf_path = '../resources/Capítulo do Livro.pdf'\n",
    "with open(pdf_path, 'rb') as pdf_file:\n",
    "    # Criação do objeto PdfReader\n",
    "    pdf_reader = PdfReader(pdf_file)\n",
    "\n",
    "    extracted_text = \"\"\n",
    "\n",
    "    # Extração do texto do pdf por páginas\n",
    "    for page_num in range(len(pdf_reader.pages)):\n",
    "        page = pdf_reader.pages[page_num]\n",
    "        extracted_text += page.extract_text()"
   ]
  },
  {
   "cell_type": "code",
   "execution_count": 9,
   "metadata": {},
   "outputs": [],
   "source": [
    "pdf_doc = {\n",
    "    'content':extracted_text,\n",
    "    'keywords':yake_keyword_extraction(extracted_text),\n",
    "    'programming_languages':extract_programming_language(extracted_text),\n",
    "    'pdf_path':pdf_path,\n",
    "    'pdf_author':ner_author_extractor(extracted_text),\n",
    "    'format':'pdf'\n",
    "}"
   ]
  },
  {
   "cell_type": "code",
   "execution_count": 10,
   "metadata": {},
   "outputs": [
    {
     "data": {
      "text/plain": [
       "{'content': 'DESENVOLVIMENTO \\nDE SISTEMAS PHP \\nMaurício de Oliveira Saraiva Criação de páginas web \\ncom HTML5\\nObjetivos de aprendizagem\\nAo final deste texto, você deve apresentar os seguintes aprendizados:\\n \\x84Definir a estrutura de uma página web com HTML5.\\n \\x84Aplicar a formatação de texto em uma página web com HTML5.\\n \\x84Desenvolver listas e tabelas em uma página web com HTML5.\\nIntrodução\\nSistemas desenvolvidos para a plataforma web, tanto para páginas es -\\ntáticas como dinâmicas, utilizam a linguagem HTML para a exibição \\ndo conteúdo. Com HTML5, é possível criar páginas web com diversos \\nrecursos para a apresentação de dados, por meio de novas marcações \\nque permitem o uso de semântica e acessibilidade. Isso facilita a pesquisa \\npor motores de busca automática, dispositivos próprios para deficientes \\nvisuais e auditivos, entre outros.\\nNeste capítulo, você vai estudar a estrutura de páginas web, a for -\\nmatação de texto em documentos hipertexto e apresentação de links, \\nlistas e tabelas em HTML5.\\nEstrutura de uma página web com HTML5\\nHTML, do inglês hyper text markup language , ou linguagem de marcação \\nde hipertexto, é uma linguagem utilizada para criar documentos para a web. \\nEsses documentos, que também são chamados de páginas, podem conter \\nmarcações que permitem visualizar e acessar conteúdos web em geral, como textos, imagens, áudios e vídeos entre outros (SILVA, 2015).\\nA versão 5 do HTML, ou simplesmente HTML5, foi publicada em 2014 \\npelo World Wide Web Consortium (W3C). W3C é uma comunidade interna -\\ncional que possui diversos participantes colaborando para o desenvolvimento de padrões da web, como as especificações HTML, XML, CSS, etc. (CON -\\nSÓRCIO..., c2011).\\nSaiba mais sobre o W3C e as especificações mantidas \\npela comunidade acessando o endereço a seguir \\n(CONSÓRCIO…, c201 1).\\nhttps://goo.gl/VHQ5n\\nA exibição de uma página HTML pode ser feita por um programa de \\ncomputador chamado navegador web ou simplesmente navegador ou  browser . \\nExistem diversos navegadores disponíveis no mercado, como Chrome, \\n Internet Explorer, Firefox, Safari, Opera, Edge, entre outros. No entanto, é \\npreciso ter cuidado com as marcações inseridas nas páginas, uma vez que, \\ndevido às diversas versões existentes dos navegadores, alguns conteúdos \\npodem não ser exibidos corretamente, caso o navegador do usuário esteja \\ndesatualizado.\\nAs marcações de uma página HTML representam mais que a apresentação \\nvisual do conteúdo. Ao acessar um conteúdo web, você consegue identificar os \\nelementos visualmente, pela sua formatação, como títulos em letras maiores, \\ndados de cabeçalho e rodapé, idioma, áreas da página e outros.\\nContudo, a informação na web não é acessada apenas por pessoas, já que \\no conteúdo pode ser lido por diversos meios, como motores de busca automá -\\ntica, dispositivos próprios para deficientes visuais e auditivos, equipamentosportáteis com diferentes tamanhos de tela, etc. (EIS; FERREIRA, 2012).\\nCom base nisso, no HTML5 foram incluídos alguns elementos que \\npermitem a leitura e a interpretação da estrutura de uma página web de \\nforma organizada e segura. Essa organização é definida por elementos \\nsemânticos, que dão significado aos objetos de uma página, conforme \\nvocê verá a seguir.Criação de páginas web com HTML5\\n 2Principais elementos da estrutura de uma página HTML5\\nComo dito anteriormente, uma página HTML é composta por marcações. Essas \\nmarcações estão inseridas no documento dentro de itens específicos chamados \\nde tags, etiquetas ou elementos, que respeitam uma estrutura hierárquica bem \\ndefinida. A Figura 1 apresenta essa estrutura.\\nFigura 1. Estrutura básica de uma página HTML5.\\nDoctype\\nA instrução DOCTYPE, apresentada na linha 1, é um comando especial que \\nindica ao navegador a versão do documento HTML. Nas versões anteriores ao \\nHTML5, era necessário informar o número da versão, contudo, na versão 5, \\nisso não é mais necessário, bastando informar < !DOCTYPE html > para que \\nos navegadores a interpretem como uma página HTML5.\\nHtml\\nA tag <html >, indicada na linha 2, representa a marcação de nível mais \\nelevado de uma página HTML. Essa tag envolve outras tags que pertencem \\nà estrutura básica de um documento HTML, como < head > e <body >, que \\nserão apresentadas na sequência. Essas tags devem ser “fechadas” com suas \\nrespectivas tags de encerramento: < /head >, </body > e </html >, conforme \\nilustrado nas linhas 6, 8 e 9, respectivamente.\\nHead\\nO conteúdo pertencente à tag < head >, expresso entre as linhas 3 e 6, deve \\nconter informações que são interpretadas pelo navegador, como o título < ti-\\ntle>, a codificação do idioma < meta > e a inclusão de arquivos CSS < link >.\\n3 Criação de páginas web com HTML5Title\\nA tag <title >, ilustrada na linha 4, serve para indicar o título da página\\nque será apresentado na barra de título ou na aba documento do navegador. \\nJá a tag <meta >, indicada na linha 5, serve para configurar o idioma de\\napresentação de caracteres da página. Nesse caso, charset= “utf-8”  \\nindica que o navegador deve exibir os caracteres do idioma português, como \\ncedilha e acentos.\\nA linguagem HTML não é case sensitive , como a linguagens C e Java que diferen -\\nciam letras maiúsculas de minúsculas. Isso significa que não faz diferença escrever \\nas tags em maiúsculo ou minúsculo, desde que os comandos estejam corretos. No \\nentanto, alguns comandos são escritos de determinada forma por padrão de escrita. \\nAlém disso, tanto faz identificar as instruções com aspas simples ou duplas, uma vez que os navegadores estão preparados para interpretar os dois modos, por exemplo, \\ncharset= “utf-8”  ou charset= ‘utf-8’ .\\nBody\\nA tag  <body > engloba o corpo do documento HTML, ou seja, é dentro dessa \\ntag que você deve inserir todo o conteúdo da página que será exibido pelo \\nnavegador. No HTML5, a tag  <body > ganhou seis novas tags , incluídas para \\norganizar e permitir pesquisas semânticas mais eficientes por sistemas de busca \\nautomatizados: < section >, <header >, <aside >, <nav>, <article > e\\n<footer >, conforme apresentado na Figura 2.\\nFigura 2. Estrutura da tag < body > no HTML5.\\nCriação de páginas web com HTML5\\n 4Section\\nO elemento < section > define uma seção ou área da página. Esse elemento \\nsubstitui grande parte das tags  <div> e <span > que eram usadas de ma -\\nneira genérica para a mesma finalidade no HTML4 ou anterior. Uma página \\nHTML5 pode conter várias seções, que podem representar as mais diversas \\náreas de um site.\\nArticle\\nO conteúdo principal de uma página HTML5 deve estar localizado dentro \\nda tag <article >. Essa tag representa um bloco que contém o conteúdo \\nprincipal do site, como texto, redação e demais informações.\\nHeader e footer\\nAs tags <header > e <footer > representam os cabeçalhos e rodapés, res -\\npectivamente. Essas tags  podem pertencer a mais de uma área, como seções \\nou a própria página principal. Os cabeçalhos armazenam informações que se \\nlocalizam no topo da página ou das seções e os rodapés contém dados que se \\nencontram no final da página ou das seções.\\nNav e aside\\nUma área de links pode ser delimitada pelo elemento  <nav>, que especifica \\natalhos para o próprio documento ou para outras páginas. Já a tag  <aside > \\nindica uma área que não pertence ao fluxo principal, como um anúncio, por \\nexemplo.\\nFormatação de texto de uma página web com \\nHTML5\\nA especificação HTML5 disponibiliza uma série de elementos para formatar \\ntextos e criar links e âncoras em páginas web. Para realizar isso você deve \\nusar tags específicas que permitem formatar os elementos de forma padrão, \\nvisando equilibrar o código com a semântica do HTML5.\\n5 Criação de páginas web com HTML5Formatação de texto\\nUma página web exibe seu conteúdo texto diferente da forma como é es -\\ncrito no código-fonte HTML. Essa diferença se dá porque seu conteúdo \\nrequer marcações específicas nos objetos para realizar a formatação, ou \\nseja, é preciso que você insira tags para definir a forma como os textos \\nsão apresentados.\\nParágrafo\\nO elemento < p> indica a marcação de um parágrafo no texto, inserindo, \\nautomaticamente, uma quebra de linha ao final quando localiza a tag < /p>, \\nque indica o fechamento do parágrafo. Sem esses elementos, qualquer texto \\nem uma página HTML será escrito em sequência, mesmo que você insira \\nquebras de linha no código-fonte pressionando a tecla enter . Veja a aplicação \\nde parágrafos na Figura 3.\\nFigura 3. Parágrafos.\\nA tag <br / > cria uma quebra de linha no texto, forçando a continuação \\ndo texto na próxima linha. Esse comando pode ser observado na linha 2.\\nO elemento < pre> define que o texto será apresentado no navegador tal \\nqual está digitado no código-fonte HTML, respeitando os espaços em branco \\ne as quebras de linhas. Note como os espaços presentes no início do parágrafo \\n(linhas 5 e 7) do texto que está formatado com a tag < pre> são respeitados \\npelo navegador.\\nNa Figura 4 você pode ver um exemplo da exibição de parágrafos no \\nnavegador.Criação de páginas web com HTML5\\n 6Figura 4. Exibição dos parágrafos no navegador.\\nTítulos\\nExistem seis níveis de títulos que definem o tamanho do texto. Esses níveis \\nsão definidos pelos elementos < h1>, <h2>, <h3>, <h4>, <h5> e <h6>, que \\nformatam o texto desde um tamanho maior até um tamanho menor, conforme \\nrepresentado nas Figuras 5 e 6. \\nFigura 5. Títulos em HTML.\\nFigura 6. Exibição de títulos no navegador.\\n7 Criação de páginas web com HTML5Estilos de texto\\nEstilos como negrito, itálico, excluído, inserido, marcado, sobrescrito e subs -\\ncrito podem ser aplicados para formatar o texto, conforme você pode observar \\nnas Figuras 7 e 8. Esses estilos permitem aplicar ou retirar a ênfase de partes \\ndo conteúdo, de modo que o navegador consiga interpretar o destaque aplicado, \\nindependentemente do dispositivo e de sua configuração de tamanho de tela \\n(FLATSCHART, 2011).\\nFigura 7. Estilos de texto.\\nFigura 8. Estilos exibidos no navegador.\\nCriação de páginas web com HTML5\\n 8Confira mais elementos de formatação de texto em \\nHTML5 no endereço a seguir (RIBEIRO, c2017).\\nhttps://goo.gl/AJwyQV\\nFolhas de estilo, links e âncoras\\nEm páginas HTML, os links ou hiperlinks  são importantes para carregar \\narquivos externos e fazer direcionamentos para outras páginas ou para pontos \\ndentro da própria página. Portanto, os links são usados para direcionar para \\nalgum lugar ou buscar alguma informação.\\nFolhas de estilo\\nUma página HTML pode carregar arquivos CSS, do inglês cascading style \\nsheets , ou folhas de estilo em cascata, que são usados para definir as folhas \\nde estilo das páginas, como cores, fontes, espaçamentos, etc. A definição do \\narquivo de folhas de estilo se dá pela tag < link >.\\n<link href=”estilo.css” rel=”stylesheet” >\\nO atributo rel=“stylesheet ” indica o que o arquivo é do tipo folhas de \\nestilo e o atributo href=“estilo.css”  representa o nome e o caminho do \\narquivo que será carregado na página. Se o caminho não for informado junto \\nao nome do arquivo, o navegador interpretará que o arquivo está no mesmo \\ndiretório da página HTML.\\nLinks\\nUm link é uma espécie de atalho que você pode colocar em um elemento \\n(palavra, frase, imagem, etc.) e que aponta ou direciona para algum objeto \\nna web, como uma página, uma figura, um vídeo ou qualquer endereço de \\ninternet. Veja um exemplo na Figura 9.\\n9 Criação de páginas web com HTML5Figura 9. Link.\\nA linha 1 define o endereço da tag <a> que a guia atual do navegador irá\\ncarregar no caso de uma ação de clique no link; a linha 2 estabelece a men -\\nsagem que será exibida pelo link no navegador; e a linha 3 faz o fechamento \\ndo elemento link, encerrando o comando.\\nDevemos usar caminho com URL completa quando fazemos links para páginas \\nexternas ao nosso site, como no caso de um link para o site do Governo Federal do \\nBrasil. Deve-se usar, contudo, o caminho relativo, nos casos em que o endereço se refere ao nosso próprio site, como um link para uma página que exibe a relação de \\nclientes cadastrados: \\nCaminho com URL completa:\\n \\x84<a href= “http://www.brasil.gov.br”>\\nCaminho relativo:\\n \\x84<a href= “/cliente/lista_cliente.php”>\\nOs links definidos pela tag < a> possuem atributos opcionais que definem\\no seu comportamento ou incluem informações adicionais. Os atributos mais\\nconhecidos são title , download , target  e mailto .\\nTitle\\nExibe uma mensagem como dica quando você posicionar o mouse sobre o \\nlink. Esse atributo serve para instruir os usuários sobre o conteúdo do link.\\n<a href=”http://www.brasil.gov.br” title=”Site oficial \\ndo Brasil”>Brasil</a >Criação de páginas web com HTML5\\n 10Download\\nForça o download automático do arquivo que está referenciado no link. Apesar \\nde forçar o download, permite que o usuário troque o nome do arquivo no \\nmomento de baixa-lo. Além disso, o comando permite que você sugira um \\nnovo nome para o arquivo, que pode ser diferente do seu nome original.\\n<a href= “relatorio _ vendas.docx” download= “rela -\\ntorio.docx”>Download</a >\\nNesse caso, o nome original do arquivo é relatorio_vendas.docx , mas a \\npágina HTML irá sugerir o nome relatorio.docx  para o usuário, no momento \\ndownload.\\nTarget\\nNo caso de um link para uma página HTML, o atributo target  define se \\nessa página será aberta na mesma aba ou em uma nova aba do navegador. \\nO atributo _ self  define na mesma aba ou janela, já o atributo _ blank  \\nestabelece uma nova aba ou janela.\\n< href= “relatório _ vendas.docx” target= \\n“ _ self”>Donwload</a >\\nE-mail\\nÉ possível criar um link para abrir programas de e-mail com alguns campos \\njá preenchidos, como o endereço do destinatário e o assunto. É importante \\ndestacar que esse comando apenas surtirá efeito se o usuário utilizar programas \\nclientes de e-mail, como o Outlook.\\n<a href= “mailto:endereco@dominio.com.\\nbr?subject=assunto da mensagem”>Enviar e-mail</a >\\nÂncoras\\nÂncoras são utilizadas para realizar o direcionamento para determinado local \\ndentro de uma mesma página HTML. Normalmente, esse recurso é utilizado \\nquando uma página possui vários links no topo e um vasto conteúdo restante \\nabaixo. Dessa forma, é possível acessar determinado conteúdo diretamente, \\nsem ter que passar por conteúdos que não são interessantes naquele momento \\n(FREEMAN; ROBSON, 2014).\\n11 Criação de páginas web com HTML5Uma página pode conter várias âncoras e em qualquer parte do documento. \\nIsso permite que você coloque âncoras que direcionem de volta ao topo da \\npágina, após ler determinado conteúdo que já havia sido direcionado por \\noutra âncora.\\nPara criar uma âncora, você deve escrever dois comandos em uma página \\nHTML: o primeiro é o posicionamento de um apelido  em um local desejado \\ndo documento, por meio da tag < a name >; e o segundo comando define um\\natalho para o apelido  que foi criado, representado pela tag < a href >, como\\nvocê pode ver na Figura 10.\\nFigura 10. Âncora.\\nAo clicar no atalho da linha 4, você será posicionado automaticamente \\nnos poemas de Cecília Meireles, sem ter que passar pelos poemas de Érico \\nVeríssimo e outros autores. Isso corre porque esse atalho aponta para o apelido \\ncecilia_meireles,  indicado na linha 11. Além disso, após ler os poemas de \\nCecília Meireles, você poderá voltar ao topo da página rapidamente, por meio \\ndo atalho topo  localizado na linha 14.\\nListas e tabelas de uma página web com HTML5\\nListas\\nUma lista em HTML equivale a um conjunto de elementos dispostos com \\nmarcadores em uma página. Essa disposição facilita a visualização de itens, Criação de páginas web com HTML5\\n 12por exemplo, uma relação de ingredientes de uma receita de culinária ou itens \\nde um sumário.\\nExistem três tipos de listas definidos na especificação HTML5: listas \\nnão ordenadas, listas ordenadas e listas de definição. Essas listas podem ser \\naninhadas em sublistas, inclusive com tipos diferentes (FLATSCHART, 2011).\\nLista não ordenada\\nUma lista não ordenada, ilustrada na Figura 11, representa uma relação \\nde itens com mesmo grau de importância, isto é, não existe uma ordem de \\nprioridade, pois os marcadores dos itens dessa lista são iguais para todos \\nos elementos. A tag da lista não ordenada é < ul> e cada item da lista é\\nindicado pela tag < li>.\\nFigura 11. Lista não ordenada.\\nNa Figura 12, você pode observar uma lista não ordenada no navegador.\\nFigura 12. Exibição de lista não ordenada no navegador.\\n13 Criação de páginas web com HTML5Lista ordenada\\nUma lista ordenada representa uma relação de itens identificados por uma \\nordem numérica, isto é, existe uma relação de prioridade, pois os marcadores \\ndos itens dessa lista estão dispostos em uma sequência. A tag da lista ordenada \\né <ol> e cada item da lista também é indicado pela tag < li>. Veja nas Figuras\\n13 e 14 as representações de uma lista ordenada.\\nFigura 13. Lista ordenada.\\nFigura 14. Exibição de lista ordenada no navegador.\\nLista de definição\\nUma lista de definição representa uma relação de itens ligados a subitens, \\ncomo uma espécie de glossário, porém sem apresentar qualquer marcador. A \\ntag da lista de definição é < dl>, cada item da lista é indicado pela tag <dt >\\ne seus respectivos subitens são representados pela tag < dd>. Observe as\\napresentações de uma lista de definição nas Figura 15 e 16.Criação de páginas web com HTML5\\n 14Figura 15. Lista de definição.\\nFigura 16. Exibição de lista de definição no navegador.\\nTabelas\\nTabelas são utilizadas para exibir um conteúdo tabulado em uma página \\nHTML, ou seja, uma tabela formata e apresenta os elementos dispostos em \\nlinhas e colunas. Para criar uma tabela você deve usar a tag < table >, seguida \\ndas tags que indicam a formação de linha < tr> e coluna < th> e <td> (th\\né usado para as colunas do cabeçalho e td, para as demais colunas da tabela) \\n(SI LVA, 2015).\\nTags agrupadoras definem áreas de cabeçalho < thead >, rodapé <tfoot >\\ne corpo da tabela < tbody >. Essas tags oferecem a vantagem de organizar e\\nseparar as áreas da tabela que podem ser apresentadas de modos diferentes, \\n15 Criação de páginas web com HTML5conforme as folhas de estilo utilizadas, além de permitir que os navegadores \\nrepitam os cabeçalhos quando são impressas tabelas com muitas páginas. Veja \\nos exemplos das Figura 17 e 18.\\nFigura 17. Tabela em HTML5.\\nFigura 18. Tabela apresentada no navegador.\\nCriação de páginas web com HTML5\\n 16O exemplo ilustrado apresenta os preços fictícios de alguns veículos em \\nforma de tabela de preços. Nesse exemplo, você pode encontrar os principais \\nitens de uma tabela, como linhas e colunas e os elementos de estrutura de \\ntabelas, como cabeçalho, rodapé e corpo.\\nNote que os elementos da estrutura da tabela não precisam, necessariamente, \\nestar dispostos em ordem, pois nesse exemplo os itens do rodapé (linhas 6 a \\n9) estão inseridos antes do corpo da tabela (linhas 12 a 23) no código-fonte.\\nIsso significa que o navegador faz a interpretação dos elementos da tabela e\\nos apresenta de forma correta, independentemente da ordem em que fora m\\nescritos.\\nO atributo opcional border (linha 1) define a largura da borda da tabela. Se \\nesse atributo for omitido, a tabela será exibida sem bordas, mantendo apenas a formatação do posicionamento dos elementos. Além desse atributo, outros \\ndois podem ser inseridos nas tags < tr> e <td | th >: rowspan  e colspan ,\\nque mesclam linhas e colunas, respectivamente.\\nCONSÓRCIO World Wide Web . São Paulo: W3C, c2011. Disponível em: <http://www.\\nw3c.br/Home/WebHome>. Acesso em: 30 out. 2017.\\nEIS, D.; FERREIRA, E. HTML5 e CSS3 : com farinha e pimenta. São Paulo: Lulu.com, 2012.\\nFLATSCHART, F. HTML5 : embarque imediato. Rio de Janeiro: Brasport, 2011.\\nFREEMAN, E.; ROBSON, E. Use a cabeça! Programação em HTML 5 . Rio de Janeiro: Alta \\nBooks, 2014.\\nRIBEIRO, R. Comandos e tags HTML5 . Rio de Janeiro: DevMedia, c2017. Disponível em: \\n<https://www.devmedia.com.br/comandos-e- tags-html5/23618>. Acesso em: 26 \\nnov. 2017.SILVA, M. S. Fundamentos de HTML5 e CSS3 . São Paulo: Novatec, 2015.\\n17 Criação de páginas web com HTML5Encerra aqui o trecho do livro disponibilizado para \\nesta Unidade de Aprendizagem. Na Biblioteca Virtual \\nda Instituição, você encontra a obra na íntegra. ',\n",
       " 'keywords': ['Oliveira Saraiva Criação',\n",
       "  'páginas web',\n",
       "  'HTML',\n",
       "  'PHP Maurício',\n",
       "  'Maurício de Oliveira',\n",
       "  'web',\n",
       "  'Figura',\n",
       "  'tag',\n",
       "  'Criação de páginas',\n",
       "  'lista',\n",
       "  'navegador',\n",
       "  'Criação',\n",
       "  'página HTML será',\n",
       "  'texto',\n",
       "  'elementos',\n",
       "  'link',\n",
       "  'mesma página HTML',\n",
       "  'conteúdo',\n",
       "  'documento HTML',\n",
       "  'tabela',\n",
       "  'lista ordenada',\n",
       "  'estrutura',\n",
       "  'linhas',\n",
       "  'World Wide Web',\n",
       "  'linguagem HTML',\n",
       "  'arquivo',\n",
       "  'itens',\n",
       "  'atributo',\n",
       "  'href',\n",
       "  'código-fonte HTML'],\n",
       " 'programming_languages': ['php', 'html5', 'html', 'c', 'java', 'r'],\n",
       " 'pdf_path': '../resources/Capítulo do Livro.pdf',\n",
       " 'pdf_author': 'Maurício de Oliveira Saraiva',\n",
       " 'format': 'pdf'}"
      ]
     },
     "execution_count": 10,
     "metadata": {},
     "output_type": "execute_result"
    }
   ],
   "source": [
    "pdf_doc"
   ]
  },
  {
   "cell_type": "markdown",
   "metadata": {},
   "source": [
    "### 1.3 Pré-processamento de vídeos"
   ]
  },
  {
   "cell_type": "markdown",
   "metadata": {},
   "source": [
    "#### 1.3.1 Extração do áudio e transcrição de áudio para texto"
   ]
  },
  {
   "cell_type": "code",
   "execution_count": 11,
   "metadata": {},
   "outputs": [],
   "source": [
    "from audio_video_utils import extract_audio, extract_video_metadata, transcribe_audio"
   ]
  },
  {
   "cell_type": "markdown",
   "metadata": {},
   "source": [
    "##### Execução"
   ]
  },
  {
   "cell_type": "code",
   "execution_count": 12,
   "metadata": {},
   "outputs": [],
   "source": [
    "video_file_path = \"../resources/Dica do professor.mp4\"\n",
    "audio_file_path = \"../resources/Audio_Dica_do_Professor.wav\""
   ]
  },
  {
   "cell_type": "code",
   "execution_count": 13,
   "metadata": {},
   "outputs": [
    {
     "name": "stdout",
     "output_type": "stream",
     "text": [
      "MoviePy - Writing audio in ../resources/Audio_Dica_do_Professor.wav\n"
     ]
    },
    {
     "name": "stderr",
     "output_type": "stream",
     "text": [
      "                                                                      \r"
     ]
    },
    {
     "name": "stdout",
     "output_type": "stream",
     "text": [
      "MoviePy - Done.\n"
     ]
    }
   ],
   "source": [
    "# Extração dos metadados do vídeo\n",
    "video_doc = extract_video_metadata(video_file_path)\n",
    "\n",
    "# Extração do áudio em .wav\n",
    "extract_audio(video_file_path, audio_file_path)\n",
    "\n",
    "# Extração da transcrição do vídeo\n",
    "transcript = transcribe_audio(audio_file_path)\n",
    "\n",
    "video_doc['content'] = transcript\n",
    "video_doc['keywords']=list(tfidf_keyword_extraction(transcript)),\n",
    "video_doc['programming_languages']=extract_programming_language(transcript)\n",
    "video_doc['video_path']=video_file_path\n",
    "video_doc['format']='video'"
   ]
  },
  {
   "cell_type": "code",
   "execution_count": 14,
   "metadata": {},
   "outputs": [
    {
     "data": {
      "text/plain": [
       "{'video_duration': '185.98',\n",
       " 'video_size': '[426, 240]',\n",
       " 'video_fps': '30',\n",
       " 'video_start_time': '0',\n",
       " 'video_end_time': '185.98',\n",
       " 'content': 'Olá seja bem-vindo a dica do professor da unidade de aprendizagem criação de páginas web com HTML 5 Neste vídeo vamos falar sobre formatação de texto e âncoras em HTML a especificação HTML5 disponibiliza uma série de alimentos para formatar textos e criar âncoras em páginas web para isso você deve usar tags específicas que permitem formatar os elementos visando o equilíbrio do código com a semântica do HTML5 nesta dica criamos uma página HTML que apresenta uma relação de músicas de Roberto Carlos nesta página Montamos um menu de navegação que contém links para algumas páginas do Astro o objetivo desses links é posicionado a página no início de cada música sem precisar percorrer todo o documento vejamos agora a estrutura dessa página a instrução Doctor HTML e informa o navegador que estamos trabalhando com a versão 5 Roberto Carlos é o nosso rei é o título da nossa página ele é exibido na barra de títulos do navegador músicas de Roberto Carlos é o título principal apresentado na nossa página esse destaque se dá através de H2 nave é uma tag específica do HTML5 ela define uma área da nossa página onde colocamos os principais links dela sexo define uma área da nossa página nós podemos ter várias sessões na nossa página é uma área principal da nossa sessão é nela que vamos colocar as músicas de Roberto Carlos cada música de Roberto Carlos possui um título esse título é destacado com H3 que informa uma letra um pouquinho menor que o título principal da nossa página que o H2 para apresentar as músicas utilizamos a tag pré ela define a formatação tal como está digitada na nossa página ela respeita quebra de linha e linhas em branco ao final de cada música colocamos um atalho para top esse atalho da direcionar a página para o início hoje temos o mesmo indicador topo do título músicas de Roberto Carlos O fechamento da tag pré e em seguida iniciamos a próxima música e assim por diante até que todas as moscas estejam na nossa página voltando para nossa página podemos ver como ela se comporta clicando no início de uma música percebemos que o navegador posiciona Logo no início dela no final de cada música temos o atalho que volta para o início dela podemos navegar entre as músicas e voltar para o início da página e isso com cada uma delas o link de cada música é feito com âncoras ou seja são endereços contados para dentro da própria página nesse caso como é grande aponta para o início da música Como é grande o meu amor por você nesse caso nós temos Esse identificador como é grande com esse título que aponta para o início dessa música E assim encerramos a dica do professor que tratou sobre formatação de texto e âncoras em HTML Espero que você tenha aproveitado essa dica Bons estudos',\n",
       " 'keywords': (['página',\n",
       "   'música',\n",
       "   'início',\n",
       "   'título',\n",
       "   'carlos',\n",
       "   'roberto',\n",
       "   'de',\n",
       "   'html',\n",
       "   'dica',\n",
       "   'link'],),\n",
       " 'programming_languages': ['html', 'html5', 'logo'],\n",
       " 'video_path': '../resources/Dica do professor.mp4',\n",
       " 'format': 'video'}"
      ]
     },
     "execution_count": 14,
     "metadata": {},
     "output_type": "execute_result"
    }
   ],
   "source": [
    "video_doc"
   ]
  },
  {
   "cell_type": "markdown",
   "metadata": {},
   "source": [
    "### 1.4 Pré-processamento de imagens"
   ]
  },
  {
   "cell_type": "code",
   "execution_count": 15,
   "metadata": {},
   "outputs": [],
   "source": [
    "import torch\n",
    "from image_utils import get_image_description, get_exif_data, extract_text_from_image"
   ]
  },
  {
   "cell_type": "code",
   "execution_count": 16,
   "metadata": {},
   "outputs": [],
   "source": [
    "image_path = '../resources/Infografico-1.jpg'\n",
    "\n",
    "# Descrição do conteúdo visual\n",
    "description = get_image_description(image_path)\n",
    "\n",
    "# Extração de texto da imagem\n",
    "custom_oem_psm_config = r'--oem 3 --psm 6'\n",
    "image_text = extract_text_from_image(image_path, custom_oem_psm_config)\n",
    "\n",
    "# Metadados EXIF caso encontre\n",
    "exif_data = get_exif_data(image_path)\n"
   ]
  },
  {
   "cell_type": "code",
   "execution_count": 17,
   "metadata": {},
   "outputs": [],
   "source": [
    "img_doc = {\n",
    "    'content':image_text,\n",
    "    'image_description':description,\n",
    "    'image_path':image_path,\n",
    "    'image_EXIF_data':exif_data,\n",
    "    'format':'image'\n",
    "}"
   ]
  },
  {
   "cell_type": "code",
   "execution_count": 18,
   "metadata": {},
   "outputs": [
    {
     "data": {
      "text/plain": [
       "{'content': \"| 000 https://vw'\\nContém informações que são apresentadas Governo do Brasil\\nno topo da página. Geralmente possui dados\\nda organização e os links mais gerais do site,\\ncomo página inicial, mapa do site, etc. PROGRAMA\\nREDUÇÃO D\\nPara ministros do (\\nNAV: incentivo irá estim\\nÉ uma área definida para os pa\\nVo, a empreendedores.\\nprincipais atalhos da página.\\nAções vão bene\\n50 mil crianças e\\nA intenção é afasta\\nContém informações que são apresentadas crime e diminuir a\\nZ 2a e em toda a região\\nno rodapé da página. Normalmente tem EiSdE VS\\ndados de contato da organização ou alguma\\noutra informação relevante. |\\n* Acesso à informação\\nO\\n\",\n",
       " 'image_description': 'captura de ecrã de um ecrã de computador que apresenta uma lista de diferentes idiomas',\n",
       " 'image_path': '../resources/Infografico-1.jpg',\n",
       " 'image_EXIF_data': {},\n",
       " 'format': 'image'}"
      ]
     },
     "execution_count": 18,
     "metadata": {},
     "output_type": "execute_result"
    }
   ],
   "source": [
    "img_doc"
   ]
  },
  {
   "cell_type": "markdown",
   "metadata": {},
   "source": [
    "### 1.5 Registros em mecanismo de busca/indexador whoosh"
   ]
  },
  {
   "cell_type": "code",
   "execution_count": 19,
   "metadata": {},
   "outputs": [],
   "source": [
    "from whoosh.index import create_in, open_dir\n",
    "from whoosh.fields import Schema, TEXT, ID, STORED\n",
    "from whoosh.analysis import StemmingAnalyzer\n",
    "import os"
   ]
  },
  {
   "cell_type": "code",
   "execution_count": 20,
   "metadata": {},
   "outputs": [],
   "source": [
    "schema = Schema(\n",
    "    content=TEXT(stored=True, analyzer=StemmingAnalyzer()), \n",
    "    keywords=TEXT(stored=True), \n",
    "    relevant_phrases=TEXT(stored=True), \n",
    "    programming_languages=TEXT(stored=True), \n",
    "    format=ID(stored=True),\n",
    "    text_path=ID(stored=True), \n",
    "    pdf_path=ID(stored=True), \n",
    "    video_path=ID(stored=True), \n",
    "    image_path=ID(stored=True),\n",
    "    pdf_author=TEXT(stored=True),\n",
    "    image_description=TEXT(stored=True),\n",
    "    image_exif_data=STORED,\n",
    "    video_duration=STORED,\n",
    "    video_size=STORED,\n",
    "    video_fps=STORED,\n",
    "    video_start_time=STORED,\n",
    "    video_end_time=STORED\n",
    "    )"
   ]
  },
  {
   "cell_type": "code",
   "execution_count": 21,
   "metadata": {},
   "outputs": [],
   "source": [
    "index_dir = \"index\"\n",
    "if not os.path.exists(index_dir):\n",
    "    os.mkdir(index_dir)\n",
    "    ix = create_in(index_dir, schema)\n",
    "else: \n",
    "    ix = open_dir(index_dir)\n"
   ]
  },
  {
   "cell_type": "code",
   "execution_count": 22,
   "metadata": {},
   "outputs": [],
   "source": [
    "lock_file = os.path.join(index_dir, \"MAIN_WRITELOCK\")\n",
    "if os.path.exists(lock_file):\n",
    "    os.remove(lock_file)"
   ]
  },
  {
   "cell_type": "code",
   "execution_count": 23,
   "metadata": {},
   "outputs": [],
   "source": [
    "documents = [text_doc, pdf_doc, video_doc, img_doc]\n",
    "\n",
    "# O Whoosh não aceita listas como argumento, então uma pequenas conversão para string\n",
    "def convert_list_to_string(value):\n",
    "    if isinstance(value, tuple) and len(value) == 1 and isinstance(value[0], list):\n",
    "        value = value[0]\n",
    "    if isinstance(value, list):\n",
    "        return ', '.join(value)\n",
    "    return value"
   ]
  },
  {
   "cell_type": "code",
   "execution_count": 24,
   "metadata": {},
   "outputs": [],
   "source": [
    "writer = ix.writer(timeout=2.0, delay=0.5)\n",
    "\n",
    "for doc in documents:\n",
    "    writer.add_document(\n",
    "        content=convert_list_to_string(doc.get(\"content\", \"\")),\n",
    "        keywords=convert_list_to_string(doc.get(\"keywords\", \"\")),\n",
    "        relevant_phrases=convert_list_to_string(doc.get(\"relevant_phrases\", \"\")),\n",
    "        programming_languages=convert_list_to_string(doc.get(\"programming_languages\", \"\")),\n",
    "        format=convert_list_to_string(doc.get(\"format\", \"\")),\n",
    "        text_path=convert_list_to_string(doc.get(\"text_path\", \"\")),\n",
    "        pdf_path=convert_list_to_string(doc.get(\"pdf_path\", \"\")),\n",
    "        video_path=convert_list_to_string(doc.get(\"video_path\", \"\")),\n",
    "        image_path=convert_list_to_string(doc.get(\"image_path\", \"\")),\n",
    "        pdf_author=convert_list_to_string(doc.get(\"pdf_author\", \"\")),\n",
    "        image_description=convert_list_to_string(doc.get(\"image_description\", \"\")),\n",
    "        image_exif_data=convert_list_to_string(doc.get(\"image_exif_data\", \"\")),\n",
    "        video_duration=convert_list_to_string(doc.get(\"video_duration\", \"\")),\n",
    "        video_size=convert_list_to_string(doc.get(\"video_size\", \"\")),\n",
    "        video_fps=convert_list_to_string(doc.get(\"video_fps\", \"\")),\n",
    "        video_start_time=convert_list_to_string(doc.get(\"video_start_time\", \"\")),\n",
    "        video_end_time=convert_list_to_string(doc.get(\"video_end_time\", \"\")),\n",
    "    )\n",
    "\n",
    "writer.commit()"
   ]
  },
  {
   "cell_type": "code",
   "execution_count": 25,
   "metadata": {},
   "outputs": [
    {
     "name": "stdout",
     "output_type": "stream",
     "text": [
      "Documento 0: {'content': 'Sistemas desenvolvidos para a plataforma web utilizam a linguagem HTML para a exibição de conteúdo, tanto para páginas estáticas como dinâmicas. Com HTML5 é possível criar páginas web com diversos recursos para a apresentação de dados por meio de novas marcações que permitem o uso de semântica e acessibilidade, facilitando a pesquisa por motores de busca automática e dispositivos próprios para deficientes visuais e auditivos.\\n\\nNesta Unidade de Aprendizagem, você vai estudar a estrutura de páginas web, a formatação de texto em documentos hipertexto e a apresentação de links, listas e tabelas em HTML5.\\n\\nBons estudos.\\n\\nAo final desta Unidade de Aprendizagem, você deve apresentar os seguintes aprendizados:\\nDefinir a estrutura de uma página web com HTML5.\\nAplicar formatação de texto em uma página web com HTML5.\\nDesenvolver listas e tabelas em uma página web com HTML5.', 'format': 'text', 'image_description': '', 'image_exif_data': '', 'image_path': '', 'keywords': 'página, web, html5, aprendizagem, apresentação, desenvolver, estrutura, formatação, lista, tabela', 'pdf_author': '', 'pdf_path': '', 'programming_languages': 'html, html5', 'relevant_phrases': 'Com HTML5 é possível criar páginas web com diversos recursos para a apresentação de dados por meio de novas marcações que permitem o uso de semântica e acessibilidade, facilitando a pesquisa por motores de busca automática e dispositivos próprios para deficientes visuais e auditivos.\\n\\n, Nesta Unidade de Aprendizagem, você vai estudar a estrutura de páginas web, a formatação de texto em documentos hipertexto e a apresentação de links, listas e tabelas em HTML5.\\n\\n, Sistemas desenvolvidos para a plataforma web utilizam a linguagem HTML para a exibição de conteúdo, tanto para páginas estáticas como dinâmicas., Ao final desta Unidade de Aprendizagem, você deve apresentar os seguintes aprendizados:\\n, Aplicar formatação de texto em uma página web com HTML5.\\n, Definir a estrutura de uma página web com HTML5.\\n, Desenvolver listas e tabelas em uma página web com HTML5., Bons estudos.\\n\\n', 'text_path': '../resources/Apresentação.txt', 'video_duration': '', 'video_end_time': '', 'video_fps': '', 'video_path': '', 'video_size': '', 'video_start_time': ''}\n",
      "Documento 1: {'content': 'DESENVOLVIMENTO \\nDE SISTEMAS PHP \\nMaurício de Oliveira Saraiva Criação de páginas web \\ncom HTML5\\nObjetivos de aprendizagem\\nAo final deste texto, você deve apresentar os seguintes aprendizados:\\n \\x84Definir a estrutura de uma página web com HTML5.\\n \\x84Aplicar a formatação de texto em uma página web com HTML5.\\n \\x84Desenvolver listas e tabelas em uma página web com HTML5.\\nIntrodução\\nSistemas desenvolvidos para a plataforma web, tanto para páginas es -\\ntáticas como dinâmicas, utilizam a linguagem HTML para a exibição \\ndo conteúdo. Com HTML5, é possível criar páginas web com diversos \\nrecursos para a apresentação de dados, por meio de novas marcações \\nque permitem o uso de semântica e acessibilidade. Isso facilita a pesquisa \\npor motores de busca automática, dispositivos próprios para deficientes \\nvisuais e auditivos, entre outros.\\nNeste capítulo, você vai estudar a estrutura de páginas web, a for -\\nmatação de texto em documentos hipertexto e apresentação de links, \\nlistas e tabelas em HTML5.\\nEstrutura de uma página web com HTML5\\nHTML, do inglês hyper text markup language , ou linguagem de marcação \\nde hipertexto, é uma linguagem utilizada para criar documentos para a web. \\nEsses documentos, que também são chamados de páginas, podem conter \\nmarcações que permitem visualizar e acessar conteúdos web em geral, como textos, imagens, áudios e vídeos entre outros (SILVA, 2015).\\nA versão 5 do HTML, ou simplesmente HTML5, foi publicada em 2014 \\npelo World Wide Web Consortium (W3C). W3C é uma comunidade interna -\\ncional que possui diversos participantes colaborando para o desenvolvimento de padrões da web, como as especificações HTML, XML, CSS, etc. (CON -\\nSÓRCIO..., c2011).\\nSaiba mais sobre o W3C e as especificações mantidas \\npela comunidade acessando o endereço a seguir \\n(CONSÓRCIO…, c201 1).\\nhttps://goo.gl/VHQ5n\\nA exibição de uma página HTML pode ser feita por um programa de \\ncomputador chamado navegador web ou simplesmente navegador ou  browser . \\nExistem diversos navegadores disponíveis no mercado, como Chrome, \\n Internet Explorer, Firefox, Safari, Opera, Edge, entre outros. No entanto, é \\npreciso ter cuidado com as marcações inseridas nas páginas, uma vez que, \\ndevido às diversas versões existentes dos navegadores, alguns conteúdos \\npodem não ser exibidos corretamente, caso o navegador do usuário esteja \\ndesatualizado.\\nAs marcações de uma página HTML representam mais que a apresentação \\nvisual do conteúdo. Ao acessar um conteúdo web, você consegue identificar os \\nelementos visualmente, pela sua formatação, como títulos em letras maiores, \\ndados de cabeçalho e rodapé, idioma, áreas da página e outros.\\nContudo, a informação na web não é acessada apenas por pessoas, já que \\no conteúdo pode ser lido por diversos meios, como motores de busca automá -\\ntica, dispositivos próprios para deficientes visuais e auditivos, equipamentosportáteis com diferentes tamanhos de tela, etc. (EIS; FERREIRA, 2012).\\nCom base nisso, no HTML5 foram incluídos alguns elementos que \\npermitem a leitura e a interpretação da estrutura de uma página web de \\nforma organizada e segura. Essa organização é definida por elementos \\nsemânticos, que dão significado aos objetos de uma página, conforme \\nvocê verá a seguir.Criação de páginas web com HTML5\\n 2Principais elementos da estrutura de uma página HTML5\\nComo dito anteriormente, uma página HTML é composta por marcações. Essas \\nmarcações estão inseridas no documento dentro de itens específicos chamados \\nde tags, etiquetas ou elementos, que respeitam uma estrutura hierárquica bem \\ndefinida. A Figura 1 apresenta essa estrutura.\\nFigura 1. Estrutura básica de uma página HTML5.\\nDoctype\\nA instrução DOCTYPE, apresentada na linha 1, é um comando especial que \\nindica ao navegador a versão do documento HTML. Nas versões anteriores ao \\nHTML5, era necessário informar o número da versão, contudo, na versão 5, \\nisso não é mais necessário, bastando informar < !DOCTYPE html > para que \\nos navegadores a interpretem como uma página HTML5.\\nHtml\\nA tag <html >, indicada na linha 2, representa a marcação de nível mais \\nelevado de uma página HTML. Essa tag envolve outras tags que pertencem \\nà estrutura básica de um documento HTML, como < head > e <body >, que \\nserão apresentadas na sequência. Essas tags devem ser “fechadas” com suas \\nrespectivas tags de encerramento: < /head >, </body > e </html >, conforme \\nilustrado nas linhas 6, 8 e 9, respectivamente.\\nHead\\nO conteúdo pertencente à tag < head >, expresso entre as linhas 3 e 6, deve \\nconter informações que são interpretadas pelo navegador, como o título < ti-\\ntle>, a codificação do idioma < meta > e a inclusão de arquivos CSS < link >.\\n3 Criação de páginas web com HTML5Title\\nA tag <title >, ilustrada na linha 4, serve para indicar o título da página\\nque será apresentado na barra de título ou na aba documento do navegador. \\nJá a tag <meta >, indicada na linha 5, serve para configurar o idioma de\\napresentação de caracteres da página. Nesse caso, charset= “utf-8”  \\nindica que o navegador deve exibir os caracteres do idioma português, como \\ncedilha e acentos.\\nA linguagem HTML não é case sensitive , como a linguagens C e Java que diferen -\\nciam letras maiúsculas de minúsculas. Isso significa que não faz diferença escrever \\nas tags em maiúsculo ou minúsculo, desde que os comandos estejam corretos. No \\nentanto, alguns comandos são escritos de determinada forma por padrão de escrita. \\nAlém disso, tanto faz identificar as instruções com aspas simples ou duplas, uma vez que os navegadores estão preparados para interpretar os dois modos, por exemplo, \\ncharset= “utf-8”  ou charset= ‘utf-8’ .\\nBody\\nA tag  <body > engloba o corpo do documento HTML, ou seja, é dentro dessa \\ntag que você deve inserir todo o conteúdo da página que será exibido pelo \\nnavegador. No HTML5, a tag  <body > ganhou seis novas tags , incluídas para \\norganizar e permitir pesquisas semânticas mais eficientes por sistemas de busca \\nautomatizados: < section >, <header >, <aside >, <nav>, <article > e\\n<footer >, conforme apresentado na Figura 2.\\nFigura 2. Estrutura da tag < body > no HTML5.\\nCriação de páginas web com HTML5\\n 4Section\\nO elemento < section > define uma seção ou área da página. Esse elemento \\nsubstitui grande parte das tags  <div> e <span > que eram usadas de ma -\\nneira genérica para a mesma finalidade no HTML4 ou anterior. Uma página \\nHTML5 pode conter várias seções, que podem representar as mais diversas \\náreas de um site.\\nArticle\\nO conteúdo principal de uma página HTML5 deve estar localizado dentro \\nda tag <article >. Essa tag representa um bloco que contém o conteúdo \\nprincipal do site, como texto, redação e demais informações.\\nHeader e footer\\nAs tags <header > e <footer > representam os cabeçalhos e rodapés, res -\\npectivamente. Essas tags  podem pertencer a mais de uma área, como seções \\nou a própria página principal. Os cabeçalhos armazenam informações que se \\nlocalizam no topo da página ou das seções e os rodapés contém dados que se \\nencontram no final da página ou das seções.\\nNav e aside\\nUma área de links pode ser delimitada pelo elemento  <nav>, que especifica \\natalhos para o próprio documento ou para outras páginas. Já a tag  <aside > \\nindica uma área que não pertence ao fluxo principal, como um anúncio, por \\nexemplo.\\nFormatação de texto de uma página web com \\nHTML5\\nA especificação HTML5 disponibiliza uma série de elementos para formatar \\ntextos e criar links e âncoras em páginas web. Para realizar isso você deve \\nusar tags específicas que permitem formatar os elementos de forma padrão, \\nvisando equilibrar o código com a semântica do HTML5.\\n5 Criação de páginas web com HTML5Formatação de texto\\nUma página web exibe seu conteúdo texto diferente da forma como é es -\\ncrito no código-fonte HTML. Essa diferença se dá porque seu conteúdo \\nrequer marcações específicas nos objetos para realizar a formatação, ou \\nseja, é preciso que você insira tags para definir a forma como os textos \\nsão apresentados.\\nParágrafo\\nO elemento < p> indica a marcação de um parágrafo no texto, inserindo, \\nautomaticamente, uma quebra de linha ao final quando localiza a tag < /p>, \\nque indica o fechamento do parágrafo. Sem esses elementos, qualquer texto \\nem uma página HTML será escrito em sequência, mesmo que você insira \\nquebras de linha no código-fonte pressionando a tecla enter . Veja a aplicação \\nde parágrafos na Figura 3.\\nFigura 3. Parágrafos.\\nA tag <br / > cria uma quebra de linha no texto, forçando a continuação \\ndo texto na próxima linha. Esse comando pode ser observado na linha 2.\\nO elemento < pre> define que o texto será apresentado no navegador tal \\nqual está digitado no código-fonte HTML, respeitando os espaços em branco \\ne as quebras de linhas. Note como os espaços presentes no início do parágrafo \\n(linhas 5 e 7) do texto que está formatado com a tag < pre> são respeitados \\npelo navegador.\\nNa Figura 4 você pode ver um exemplo da exibição de parágrafos no \\nnavegador.Criação de páginas web com HTML5\\n 6Figura 4. Exibição dos parágrafos no navegador.\\nTítulos\\nExistem seis níveis de títulos que definem o tamanho do texto. Esses níveis \\nsão definidos pelos elementos < h1>, <h2>, <h3>, <h4>, <h5> e <h6>, que \\nformatam o texto desde um tamanho maior até um tamanho menor, conforme \\nrepresentado nas Figuras 5 e 6. \\nFigura 5. Títulos em HTML.\\nFigura 6. Exibição de títulos no navegador.\\n7 Criação de páginas web com HTML5Estilos de texto\\nEstilos como negrito, itálico, excluído, inserido, marcado, sobrescrito e subs -\\ncrito podem ser aplicados para formatar o texto, conforme você pode observar \\nnas Figuras 7 e 8. Esses estilos permitem aplicar ou retirar a ênfase de partes \\ndo conteúdo, de modo que o navegador consiga interpretar o destaque aplicado, \\nindependentemente do dispositivo e de sua configuração de tamanho de tela \\n(FLATSCHART, 2011).\\nFigura 7. Estilos de texto.\\nFigura 8. Estilos exibidos no navegador.\\nCriação de páginas web com HTML5\\n 8Confira mais elementos de formatação de texto em \\nHTML5 no endereço a seguir (RIBEIRO, c2017).\\nhttps://goo.gl/AJwyQV\\nFolhas de estilo, links e âncoras\\nEm páginas HTML, os links ou hiperlinks  são importantes para carregar \\narquivos externos e fazer direcionamentos para outras páginas ou para pontos \\ndentro da própria página. Portanto, os links são usados para direcionar para \\nalgum lugar ou buscar alguma informação.\\nFolhas de estilo\\nUma página HTML pode carregar arquivos CSS, do inglês cascading style \\nsheets , ou folhas de estilo em cascata, que são usados para definir as folhas \\nde estilo das páginas, como cores, fontes, espaçamentos, etc. A definição do \\narquivo de folhas de estilo se dá pela tag < link >.\\n<link href=”estilo.css” rel=”stylesheet” >\\nO atributo rel=“stylesheet ” indica o que o arquivo é do tipo folhas de \\nestilo e o atributo href=“estilo.css”  representa o nome e o caminho do \\narquivo que será carregado na página. Se o caminho não for informado junto \\nao nome do arquivo, o navegador interpretará que o arquivo está no mesmo \\ndiretório da página HTML.\\nLinks\\nUm link é uma espécie de atalho que você pode colocar em um elemento \\n(palavra, frase, imagem, etc.) e que aponta ou direciona para algum objeto \\nna web, como uma página, uma figura, um vídeo ou qualquer endereço de \\ninternet. Veja um exemplo na Figura 9.\\n9 Criação de páginas web com HTML5Figura 9. Link.\\nA linha 1 define o endereço da tag <a> que a guia atual do navegador irá\\ncarregar no caso de uma ação de clique no link; a linha 2 estabelece a men -\\nsagem que será exibida pelo link no navegador; e a linha 3 faz o fechamento \\ndo elemento link, encerrando o comando.\\nDevemos usar caminho com URL completa quando fazemos links para páginas \\nexternas ao nosso site, como no caso de um link para o site do Governo Federal do \\nBrasil. Deve-se usar, contudo, o caminho relativo, nos casos em que o endereço se refere ao nosso próprio site, como um link para uma página que exibe a relação de \\nclientes cadastrados: \\nCaminho com URL completa:\\n \\x84<a href= “http://www.brasil.gov.br”>\\nCaminho relativo:\\n \\x84<a href= “/cliente/lista_cliente.php”>\\nOs links definidos pela tag < a> possuem atributos opcionais que definem\\no seu comportamento ou incluem informações adicionais. Os atributos mais\\nconhecidos são title , download , target  e mailto .\\nTitle\\nExibe uma mensagem como dica quando você posicionar o mouse sobre o \\nlink. Esse atributo serve para instruir os usuários sobre o conteúdo do link.\\n<a href=”http://www.brasil.gov.br” title=”Site oficial \\ndo Brasil”>Brasil</a >Criação de páginas web com HTML5\\n 10Download\\nForça o download automático do arquivo que está referenciado no link. Apesar \\nde forçar o download, permite que o usuário troque o nome do arquivo no \\nmomento de baixa-lo. Além disso, o comando permite que você sugira um \\nnovo nome para o arquivo, que pode ser diferente do seu nome original.\\n<a href= “relatorio _ vendas.docx” download= “rela -\\ntorio.docx”>Download</a >\\nNesse caso, o nome original do arquivo é relatorio_vendas.docx , mas a \\npágina HTML irá sugerir o nome relatorio.docx  para o usuário, no momento \\ndownload.\\nTarget\\nNo caso de um link para uma página HTML, o atributo target  define se \\nessa página será aberta na mesma aba ou em uma nova aba do navegador. \\nO atributo _ self  define na mesma aba ou janela, já o atributo _ blank  \\nestabelece uma nova aba ou janela.\\n< href= “relatório _ vendas.docx” target= \\n“ _ self”>Donwload</a >\\nE-mail\\nÉ possível criar um link para abrir programas de e-mail com alguns campos \\njá preenchidos, como o endereço do destinatário e o assunto. É importante \\ndestacar que esse comando apenas surtirá efeito se o usuário utilizar programas \\nclientes de e-mail, como o Outlook.\\n<a href= “mailto:endereco@dominio.com.\\nbr?subject=assunto da mensagem”>Enviar e-mail</a >\\nÂncoras\\nÂncoras são utilizadas para realizar o direcionamento para determinado local \\ndentro de uma mesma página HTML. Normalmente, esse recurso é utilizado \\nquando uma página possui vários links no topo e um vasto conteúdo restante \\nabaixo. Dessa forma, é possível acessar determinado conteúdo diretamente, \\nsem ter que passar por conteúdos que não são interessantes naquele momento \\n(FREEMAN; ROBSON, 2014).\\n11 Criação de páginas web com HTML5Uma página pode conter várias âncoras e em qualquer parte do documento. \\nIsso permite que você coloque âncoras que direcionem de volta ao topo da \\npágina, após ler determinado conteúdo que já havia sido direcionado por \\noutra âncora.\\nPara criar uma âncora, você deve escrever dois comandos em uma página \\nHTML: o primeiro é o posicionamento de um apelido  em um local desejado \\ndo documento, por meio da tag < a name >; e o segundo comando define um\\natalho para o apelido  que foi criado, representado pela tag < a href >, como\\nvocê pode ver na Figura 10.\\nFigura 10. Âncora.\\nAo clicar no atalho da linha 4, você será posicionado automaticamente \\nnos poemas de Cecília Meireles, sem ter que passar pelos poemas de Érico \\nVeríssimo e outros autores. Isso corre porque esse atalho aponta para o apelido \\ncecilia_meireles,  indicado na linha 11. Além disso, após ler os poemas de \\nCecília Meireles, você poderá voltar ao topo da página rapidamente, por meio \\ndo atalho topo  localizado na linha 14.\\nListas e tabelas de uma página web com HTML5\\nListas\\nUma lista em HTML equivale a um conjunto de elementos dispostos com \\nmarcadores em uma página. Essa disposição facilita a visualização de itens, Criação de páginas web com HTML5\\n 12por exemplo, uma relação de ingredientes de uma receita de culinária ou itens \\nde um sumário.\\nExistem três tipos de listas definidos na especificação HTML5: listas \\nnão ordenadas, listas ordenadas e listas de definição. Essas listas podem ser \\naninhadas em sublistas, inclusive com tipos diferentes (FLATSCHART, 2011).\\nLista não ordenada\\nUma lista não ordenada, ilustrada na Figura 11, representa uma relação \\nde itens com mesmo grau de importância, isto é, não existe uma ordem de \\nprioridade, pois os marcadores dos itens dessa lista são iguais para todos \\nos elementos. A tag da lista não ordenada é < ul> e cada item da lista é\\nindicado pela tag < li>.\\nFigura 11. Lista não ordenada.\\nNa Figura 12, você pode observar uma lista não ordenada no navegador.\\nFigura 12. Exibição de lista não ordenada no navegador.\\n13 Criação de páginas web com HTML5Lista ordenada\\nUma lista ordenada representa uma relação de itens identificados por uma \\nordem numérica, isto é, existe uma relação de prioridade, pois os marcadores \\ndos itens dessa lista estão dispostos em uma sequência. A tag da lista ordenada \\né <ol> e cada item da lista também é indicado pela tag < li>. Veja nas Figuras\\n13 e 14 as representações de uma lista ordenada.\\nFigura 13. Lista ordenada.\\nFigura 14. Exibição de lista ordenada no navegador.\\nLista de definição\\nUma lista de definição representa uma relação de itens ligados a subitens, \\ncomo uma espécie de glossário, porém sem apresentar qualquer marcador. A \\ntag da lista de definição é < dl>, cada item da lista é indicado pela tag <dt >\\ne seus respectivos subitens são representados pela tag < dd>. Observe as\\napresentações de uma lista de definição nas Figura 15 e 16.Criação de páginas web com HTML5\\n 14Figura 15. Lista de definição.\\nFigura 16. Exibição de lista de definição no navegador.\\nTabelas\\nTabelas são utilizadas para exibir um conteúdo tabulado em uma página \\nHTML, ou seja, uma tabela formata e apresenta os elementos dispostos em \\nlinhas e colunas. Para criar uma tabela você deve usar a tag < table >, seguida \\ndas tags que indicam a formação de linha < tr> e coluna < th> e <td> (th\\né usado para as colunas do cabeçalho e td, para as demais colunas da tabela) \\n(SI LVA, 2015).\\nTags agrupadoras definem áreas de cabeçalho < thead >, rodapé <tfoot >\\ne corpo da tabela < tbody >. Essas tags oferecem a vantagem de organizar e\\nseparar as áreas da tabela que podem ser apresentadas de modos diferentes, \\n15 Criação de páginas web com HTML5conforme as folhas de estilo utilizadas, além de permitir que os navegadores \\nrepitam os cabeçalhos quando são impressas tabelas com muitas páginas. Veja \\nos exemplos das Figura 17 e 18.\\nFigura 17. Tabela em HTML5.\\nFigura 18. Tabela apresentada no navegador.\\nCriação de páginas web com HTML5\\n 16O exemplo ilustrado apresenta os preços fictícios de alguns veículos em \\nforma de tabela de preços. Nesse exemplo, você pode encontrar os principais \\nitens de uma tabela, como linhas e colunas e os elementos de estrutura de \\ntabelas, como cabeçalho, rodapé e corpo.\\nNote que os elementos da estrutura da tabela não precisam, necessariamente, \\nestar dispostos em ordem, pois nesse exemplo os itens do rodapé (linhas 6 a \\n9) estão inseridos antes do corpo da tabela (linhas 12 a 23) no código-fonte.\\nIsso significa que o navegador faz a interpretação dos elementos da tabela e\\nos apresenta de forma correta, independentemente da ordem em que fora m\\nescritos.\\nO atributo opcional border (linha 1) define a largura da borda da tabela. Se \\nesse atributo for omitido, a tabela será exibida sem bordas, mantendo apenas a formatação do posicionamento dos elementos. Além desse atributo, outros \\ndois podem ser inseridos nas tags < tr> e <td | th >: rowspan  e colspan ,\\nque mesclam linhas e colunas, respectivamente.\\nCONSÓRCIO World Wide Web . São Paulo: W3C, c2011. Disponível em: <http://www.\\nw3c.br/Home/WebHome>. Acesso em: 30 out. 2017.\\nEIS, D.; FERREIRA, E. HTML5 e CSS3 : com farinha e pimenta. São Paulo: Lulu.com, 2012.\\nFLATSCHART, F. HTML5 : embarque imediato. Rio de Janeiro: Brasport, 2011.\\nFREEMAN, E.; ROBSON, E. Use a cabeça! Programação em HTML 5 . Rio de Janeiro: Alta \\nBooks, 2014.\\nRIBEIRO, R. Comandos e tags HTML5 . Rio de Janeiro: DevMedia, c2017. Disponível em: \\n<https://www.devmedia.com.br/comandos-e- tags-html5/23618>. Acesso em: 26 \\nnov. 2017.SILVA, M. S. Fundamentos de HTML5 e CSS3 . São Paulo: Novatec, 2015.\\n17 Criação de páginas web com HTML5Encerra aqui o trecho do livro disponibilizado para \\nesta Unidade de Aprendizagem. Na Biblioteca Virtual \\nda Instituição, você encontra a obra na íntegra. ', 'format': 'pdf', 'image_description': '', 'image_exif_data': '', 'image_path': '', 'keywords': 'Oliveira Saraiva Criação, páginas web, HTML, PHP Maurício, Maurício de Oliveira, web, Figura, tag, Criação de páginas, lista, navegador, Criação, página HTML será, texto, elementos, link, mesma página HTML, conteúdo, documento HTML, tabela, lista ordenada, estrutura, linhas, World Wide Web, linguagem HTML, arquivo, itens, atributo, href, código-fonte HTML', 'pdf_author': 'Maurício de Oliveira Saraiva', 'pdf_path': '../resources/Capítulo do Livro.pdf', 'programming_languages': 'php, html5, html, c, java, r', 'relevant_phrases': '', 'text_path': '', 'video_duration': '', 'video_end_time': '', 'video_fps': '', 'video_path': '', 'video_size': '', 'video_start_time': ''}\n",
      "Documento 2: {'content': 'Olá seja bem-vindo a dica do professor da unidade de aprendizagem criação de páginas web com HTML 5 Neste vídeo vamos falar sobre formatação de texto e âncoras em HTML a especificação HTML5 disponibiliza uma série de alimentos para formatar textos e criar âncoras em páginas web para isso você deve usar tags específicas que permitem formatar os elementos visando o equilíbrio do código com a semântica do HTML5 nesta dica criamos uma página HTML que apresenta uma relação de músicas de Roberto Carlos nesta página Montamos um menu de navegação que contém links para algumas páginas do Astro o objetivo desses links é posicionado a página no início de cada música sem precisar percorrer todo o documento vejamos agora a estrutura dessa página a instrução Doctor HTML e informa o navegador que estamos trabalhando com a versão 5 Roberto Carlos é o nosso rei é o título da nossa página ele é exibido na barra de títulos do navegador músicas de Roberto Carlos é o título principal apresentado na nossa página esse destaque se dá através de H2 nave é uma tag específica do HTML5 ela define uma área da nossa página onde colocamos os principais links dela sexo define uma área da nossa página nós podemos ter várias sessões na nossa página é uma área principal da nossa sessão é nela que vamos colocar as músicas de Roberto Carlos cada música de Roberto Carlos possui um título esse título é destacado com H3 que informa uma letra um pouquinho menor que o título principal da nossa página que o H2 para apresentar as músicas utilizamos a tag pré ela define a formatação tal como está digitada na nossa página ela respeita quebra de linha e linhas em branco ao final de cada música colocamos um atalho para top esse atalho da direcionar a página para o início hoje temos o mesmo indicador topo do título músicas de Roberto Carlos O fechamento da tag pré e em seguida iniciamos a próxima música e assim por diante até que todas as moscas estejam na nossa página voltando para nossa página podemos ver como ela se comporta clicando no início de uma música percebemos que o navegador posiciona Logo no início dela no final de cada música temos o atalho que volta para o início dela podemos navegar entre as músicas e voltar para o início da página e isso com cada uma delas o link de cada música é feito com âncoras ou seja são endereços contados para dentro da própria página nesse caso como é grande aponta para o início da música Como é grande o meu amor por você nesse caso nós temos Esse identificador como é grande com esse título que aponta para o início dessa música E assim encerramos a dica do professor que tratou sobre formatação de texto e âncoras em HTML Espero que você tenha aproveitado essa dica Bons estudos', 'format': 'video', 'image_description': '', 'image_exif_data': '', 'image_path': '', 'keywords': 'página, música, início, título, carlos, roberto, de, html, dica, link', 'pdf_author': '', 'pdf_path': '', 'programming_languages': 'html, html5, logo', 'relevant_phrases': '', 'text_path': '', 'video_duration': '185.98', 'video_end_time': '185.98', 'video_fps': '30', 'video_path': '../resources/Dica do professor.mp4', 'video_size': '[426, 240]', 'video_start_time': '0'}\n",
      "Documento 3: {'content': \"| 000 https://vw'\\nContém informações que são apresentadas Governo do Brasil\\nno topo da página. Geralmente possui dados\\nda organização e os links mais gerais do site,\\ncomo página inicial, mapa do site, etc. PROGRAMA\\nREDUÇÃO D\\nPara ministros do (\\nNAV: incentivo irá estim\\nÉ uma área definida para os pa\\nVo, a empreendedores.\\nprincipais atalhos da página.\\nAções vão bene\\n50 mil crianças e\\nA intenção é afasta\\nContém informações que são apresentadas crime e diminuir a\\nZ 2a e em toda a região\\nno rodapé da página. Normalmente tem EiSdE VS\\ndados de contato da organização ou alguma\\noutra informação relevante. |\\n* Acesso à informação\\nO\\n\", 'format': 'image', 'image_description': 'captura de ecrã de um ecrã de computador que apresenta uma lista de diferentes idiomas', 'image_exif_data': '', 'image_path': '../resources/Infografico-1.jpg', 'keywords': '', 'pdf_author': '', 'pdf_path': '', 'programming_languages': '', 'relevant_phrases': '', 'text_path': '', 'video_duration': '', 'video_end_time': '', 'video_fps': '', 'video_path': '', 'video_size': '', 'video_start_time': ''}\n"
     ]
    }
   ],
   "source": [
    "with ix.searcher() as searcher:\n",
    "    for docnum in range(searcher.reader().doc_count_all()):\n",
    "        doc = searcher.reader().stored_fields(docnum)\n",
    "        print(\"Documento {}: {}\".format(docnum, doc))"
   ]
  },
  {
   "cell_type": "markdown",
   "metadata": {},
   "source": [
    "## Etapa 2: Prompt de aprendizagem adaptativa"
   ]
  },
  {
   "cell_type": "markdown",
   "metadata": {},
   "source": [
    "Enunciado: Construa um prompt interativo, utilizando as tecnologias que julgar apropriadas, que identifique as dificuldades e lacunas de conhecimento dos usuários em um diálogo fluido e intuitivo para avaliar e entender as áreas onde seu conhecimento sobre um tema específico pode ser insuficiente. O escopo deve estar limitado ao conteúdo indexado. Durante as interações, inclua mecanismos que permitam identificar as preferências dos usuários quanto ao formato de aprendizado mais efetivo para eles, seja texto, vídeo ou áudio, adaptando-se assim às suas preferências pessoais de consumo de conteúdo.\n",
    "\n",
    "Baseado nas interações analise as dificuldades e gere conteúdos dinâmicos curtos em diferentes formatos (vídeos, áudios, textos) para abordar as necessidades específicas de aprendizagem do usuário. Os conteúdos devem ser relevantes, informativos e adaptados ao nível de conhecimento do usuário."
   ]
  },
  {
   "cell_type": "markdown",
   "metadata": {},
   "source": [
    "**Nota: Idealmente, eu usaria uma vector store para cálculo da semelhança semântica do questionamento do aluno com o conteúdo encontrado após filtrar por formatos, mas não foi possível implementar localmente**"
   ]
  },
  {
   "cell_type": "code",
   "execution_count": 36,
   "metadata": {},
   "outputs": [],
   "source": [
    "from transformers import pipeline, AutoTokenizer, AutoModelForCausalLM\n",
    "from whoosh.qparser import MultifieldParser, OrGroup\n",
    "import os"
   ]
  },
  {
   "cell_type": "code",
   "execution_count": null,
   "metadata": {},
   "outputs": [],
   "source": [
    "tokenizer = AutoTokenizer.from_pretrained(\"neuralmind/bert-large-portuguese-cased\")\n",
    "model = AutoModelForCausalLM.from_pretrained(\"neuralmind/bert-large-portuguese-cased\")"
   ]
  },
  {
   "cell_type": "code",
   "execution_count": 38,
   "metadata": {},
   "outputs": [],
   "source": [
    "question = \"Como utilizar HTML5 para criar uma página web?\"\n",
    "format_preference = \"video\""
   ]
  },
  {
   "cell_type": "code",
   "execution_count": 39,
   "metadata": {},
   "outputs": [
    {
     "name": "stdout",
     "output_type": "stream",
     "text": [
      "Consulta parseada: (content:como OR keywords:como OR content:utilizar OR keywords:utilizar OR content:html5 OR keywords:html5 OR content:para OR keywords:para OR content:criar OR keywords:criar OR content:uma OR keywords:uma OR content:página OR keywords:página OR content:web? OR keywords:web?)\n",
      "Resultados: <Top 4 Results for Or([Term('content', 'como'), Term('keywords', 'como'), Term('content', 'utilizar'), Term('keywords', 'utilizar'), Term('content', 'html5'), Term('keywords', 'html5'), Term('content', 'para'), Term('keywords', 'para'), Term('content', 'criar'), Term('keywords', 'criar'), Term('content', 'uma'), Term('keywords', 'uma'), Term('content', 'página'), Term('keywords', 'página'), Wildcard('content', 'web?'), Wildcard('keywords', 'web?')]) runtime=0.003389900000001944>\n",
      "Olá seja bem-vindo a dica do professor da unidade de aprendizagem criação de páginas web com HTML 5 Neste vídeo vamos falar sobre formatação de texto e âncoras em HTML a especificação HTML5 disponibiliza uma série de alimentos para formatar textos e criar âncoras em páginas web para isso você deve usar tags específicas que permitem formatar os elementos visando o equilíbrio do código com a semântica do HTML5 nesta dica criamos uma página HTML que apresenta uma relação de músicas de Roberto Carlos nesta página Montamos um menu de navegação que contém links para algumas páginas do Astro o objetivo desses links é posicionado a página no início de cada música sem precisar percorrer todo o documento vejamos agora a estrutura dessa página a instrução Doctor HTML e informa o navegador que estamos trabalhando com a versão 5 Roberto Carlos é o nosso rei é o título da nossa página ele é exibido na barra de títulos do navegador músicas de Roberto Carlos é o título principal apresentado na nossa página esse destaque se dá através de H2 nave é uma tag específica do HTML5 ela define uma área da nossa página onde colocamos os principais links dela sexo define uma área da nossa página nós podemos ter várias sessões na nossa página é uma área principal da nossa sessão é nela que vamos colocar as músicas de Roberto Carlos cada música de Roberto Carlos possui um título esse título é destacado com H3 que informa uma letra um pouquinho menor que o título principal da nossa página que o H2 para apresentar as músicas utilizamos a tag pré ela define a formatação tal como está digitada na nossa página ela respeita quebra de linha e linhas em branco ao final de cada música colocamos um atalho para top esse atalho da direcionar a página para o início hoje temos o mesmo indicador topo do título músicas de Roberto Carlos O fechamento da tag pré e em seguida iniciamos a próxima música e assim por diante até que todas as moscas estejam na nossa página voltando para nossa página podemos ver como ela se comporta clicando no início de uma música percebemos que o navegador posiciona Logo no início dela no final de cada música temos o atalho que volta para o início dela podemos navegar entre as músicas e voltar para o início da página e isso com cada uma delas o link de cada música é feito com âncoras ou seja são endereços contados para dentro da própria página nesse caso como é grande aponta para o início da música Como é grande o meu amor por você nesse caso nós temos Esse identificador como é grande com esse título que aponta para o início dessa música E assim encerramos a dica do professor que tratou sobre formatação de texto e âncoras em HTML Espero que você tenha aproveitado essa dica Bons estudos\n"
     ]
    }
   ],
   "source": [
    "# Função para gerar texto usando o modelo LLM ao final da esteira\n",
    "def generate_text(prompt, num_tokens=50):\n",
    "    input_ids = tokenizer.encode(prompt, return_tensors=\"pt\")\n",
    "    output = model.generate(input_ids, max_length=num_tokens, num_return_sequences=1, temperature=0.7)\n",
    "    generated_text = tokenizer.decode(output[0], skip_special_tokens=True)\n",
    "    return generated_text\n",
    "\n",
    "# Função para buscar no índice\n",
    "def search_index(query, format_preference):\n",
    "    ix = open_dir(index_dir)\n",
    "    with ix.searcher() as searcher:\n",
    "        query_parser = MultifieldParser([\"content\", \"keywords\"], ix.schema, group=OrGroup)\n",
    "        myquery = query_parser.parse(query)\n",
    "        results = searcher.search(myquery)\n",
    "        filtered_results = [hit for hit in results if hit['format'] == format_preference]\n",
    "        return filtered_results[0]['content'] if filtered_results else \"Nenhum conteúdo relevante encontrado\"\n",
    "\n",
    "content = search_index(question, format_preference)\n",
    "print(content)\n"
   ]
  },
  {
   "cell_type": "code",
   "execution_count": 40,
   "metadata": {},
   "outputs": [
    {
     "name": "stdout",
     "output_type": "stream",
     "text": [
      "Conteúdo recomendado: Olá seja bem-vindo a dica do professor da unidade de aprendizagem criação de páginas web com HTML 5 Neste vídeo vamos falar sobre formatação de texto e âncoras em HTML a especificação HTML5 disponibiliza uma série de alimentos para formatar textos e criar âncoras em páginas web para isso você deve usar tags específicas que permitem formatar os elementos visando o equilíbrio do código com a semântica do HTML5 nesta dica criamos uma página HTML que apresenta uma relação de músicas de Roberto Carlos nesta página Montamos um menu de navegação que contém links para algumas páginas do Astro o objetivo desses links é posicionado a página no início de cada música sem precisar percorrer todo o documento vejamos agora a estrutura dessa página a instrução Doctor HTML e informa o navegador que estamos trabalhando com a versão 5 Roberto Carlos é o nosso rei é o título da nossa página ele é exibido na barra de títulos do navegador músicas de Roberto Carlos é o título principal apresentado na nossa página esse destaque se dá através de H2 nave é uma tag específica do HTML5 ela define uma área da nossa página onde colocamos os principais links dela sexo define uma área da nossa página nós podemos ter várias sessões na nossa página é uma área principal da nossa sessão é nela que vamos colocar as músicas de Roberto Carlos cada música de Roberto Carlos possui um título esse título é destacado com H3 que informa uma letra um pouquinho menor que o título principal da nossa página que o H2 para apresentar as músicas utilizamos a tag pré ela define a formatação tal como está digitada na nossa página ela respeita quebra de linha e linhas em branco ao final de cada música colocamos um atalho para top esse atalho da direcionar a página para o início hoje temos o mesmo indicador topo do título músicas de Roberto Carlos O fechamento da tag pré e em seguida iniciamos a próxima música e assim por diante até que todas as moscas estejam na nossa página voltando para nossa página podemos ver como ela se comporta clicando no início de uma música percebemos que o navegador posiciona Logo no início dela no final de cada música temos o atalho que volta para o início dela podemos navegar entre as músicas e voltar para o início da página e isso com cada uma delas o link de cada música é feito com âncoras ou seja são endereços contados para dentro da própria página nesse caso como é grande aponta para o início da música Como é grande o meu amor por você nesse caso nós temos Esse identificador como é grande com esse título que aponta para o início dessa música E assim encerramos a dica do professor que tratou sobre formatação de texto e âncoras em HTML Espero que você tenha aproveitado essa dica Bons estudos\n"
     ]
    }
   ],
   "source": [
    "if content == \"Nenhum conteúdo relevante encontrado\":\n",
    "    generated_text = generate_text(question)\n",
    "    print(generated_text)\n",
    "else:\n",
    "    print(\"Conteúdo recomendado:\", content)"
   ]
  },
  {
   "cell_type": "markdown",
   "metadata": {},
   "source": [
    "## Outros passos/soluções desejadas"
   ]
  },
  {
   "cell_type": "markdown",
   "metadata": {},
   "source": [
    "- Montar realmente uma estrutura de prompt em que a IA trataria e reconheceria a linguagem de busca também com a dificuldade (Como pode se ver acima, a solução ficou em um mecanismo de busca na parte da linguagem), realizar busca semântica criando vector store, incorporando um personagem de professor à IA por prompt engineering"
   ]
  }
 ],
 "metadata": {
  "kernelspec": {
   "display_name": ".venv",
   "language": "python",
   "name": "python3"
  },
  "language_info": {
   "codemirror_mode": {
    "name": "ipython",
    "version": 3
   },
   "file_extension": ".py",
   "mimetype": "text/x-python",
   "name": "python",
   "nbconvert_exporter": "python",
   "pygments_lexer": "ipython3",
   "version": "3.9.2"
  }
 },
 "nbformat": 4,
 "nbformat_minor": 2
}
