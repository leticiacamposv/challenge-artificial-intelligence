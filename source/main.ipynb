{
 "cells": [
  {
   "cell_type": "markdown",
   "metadata": {},
   "source": [
    "# Desafio +A Educação - Engenheiro de Inteligência Artificial\n",
    "\n",
    "Este notebook contempla as etapas e soluções requeridas no desafio pontuadas no README.md na pasta raiz e estruturadas de acordo\n",
    "\n",
    "*Autora*: Leticia Campos Valente"
   ]
  },
  {
   "cell_type": "markdown",
   "metadata": {},
   "source": [
    "## Etapa 1: Indexação dos dados"
   ]
  },
  {
   "cell_type": "markdown",
   "metadata": {},
   "source": [
    "**Enunciado**:\\\n",
    "\"Defina a ferramenta de indexação que considere adequada para o projeto. Recomenda-se escolher uma ferramenta que possa suportar a geração dinâmica de conteúdos adaptativos no prompt de IA generativa. Indexe os diferentes tipos de dados para permitir uma busca eficiente e relevante.\"\n",
    "\n",
    "**Conjunto de dados**: \\\n",
    "Textos: Uma coleção de textos extraídos de módulos de aprendizagem.\n",
    "PDFs: Livros e manuais introdutórios sobre o conteúdo abordado.\n",
    "Vídeos: Pequenos vídeos de dicas de professor, que explicam o conteúdo abordado. Os vídeos estão em formatos .mp4\n",
    "\n",
    "\n",
    "Dadas as condições, opta-se pela ferramenta ElasticSearch pela eficiencia no armazenamento de documentação e integração em Langchain"
   ]
  },
  {
   "cell_type": "markdown",
   "metadata": {},
   "source": [
    " <u> Notas </u>\n",
    "\n",
    "1. Existem nesse código mais de uma estratégia para realizar, por exemplo, extração das keywords. Isso se dá porque o mesmo método que performa bem para o texto de exemplo não performou tão bem para os textos em pdf, etc. Além disso, inclui-se mais abordagens propositalmente para demonstrar os conhecimentos em cada estratégia\n",
    "2."
   ]
  },
  {
   "cell_type": "code",
   "execution_count": 1,
   "metadata": {},
   "outputs": [],
   "source": [
    "from elasticsearch import Elasticsearch\n",
    "\n",
    "# Instanciando o Elasticsearch\n",
    "es = Elasticsearch(\"http://localhost:9200\")"
   ]
  },
  {
   "cell_type": "markdown",
   "metadata": {},
   "source": [
    "### 1.1 Pré-processamento de Texto"
   ]
  },
  {
   "cell_type": "markdown",
   "metadata": {},
   "source": [
    "É preciso primeiramente extrair as palavras chaves do texto para indexação conforme conteúdo e extração de frases relevantes. \n",
    "\n",
    "**Estratégia de extração de palavras-chave**: Term Frequency-Inverse Document Frequency (TF-IDF) \\\n",
    "**Estratégia de extração de frases mais relevantes**: Sentence ranking via spacy \n",
    "\n",
    "Escolheu-se utilizar abordagens de NLP simples ao invés do uso de um modelo pré-treinado BERT, por exemplo, por mera questão de simplicidade e eficiência para este documento de exemplo, mas em textos mais complexos, a autora consideraria a segunda opção.\n",
    "\n",
    "As funções se encontram no módulo source/text_utils.py"
   ]
  },
  {
   "cell_type": "code",
   "execution_count": 2,
   "metadata": {},
   "outputs": [],
   "source": [
    "import nltk\n",
    "from text_utils import latin_text_preprocessing, tfidf_keyword_extraction, text_most_relevant_prhases_extraction, extract_programming_language"
   ]
  },
  {
   "cell_type": "code",
   "execution_count": 3,
   "metadata": {},
   "outputs": [],
   "source": [
    "%%capture\n",
    "!python -m spacy download pt_core_news_sm"
   ]
  },
  {
   "cell_type": "code",
   "execution_count": 4,
   "metadata": {},
   "outputs": [
    {
     "name": "stderr",
     "output_type": "stream",
     "text": [
      "[nltk_data] Downloading package punkt to\n",
      "[nltk_data]     C:\\Users\\Mototaxista\\AppData\\Roaming\\nltk_data...\n",
      "[nltk_data]   Package punkt is already up-to-date!\n",
      "[nltk_data] Downloading package stopwords to\n",
      "[nltk_data]     C:\\Users\\Mototaxista\\AppData\\Roaming\\nltk_data...\n",
      "[nltk_data]   Package stopwords is already up-to-date!\n"
     ]
    }
   ],
   "source": [
    "%%capture\n",
    "nltk.download('punkt')\n",
    "nltk.download('stopwords')"
   ]
  },
  {
   "cell_type": "markdown",
   "metadata": {},
   "source": [
    "##### Execução"
   ]
  },
  {
   "cell_type": "code",
   "execution_count": 5,
   "metadata": {},
   "outputs": [],
   "source": [
    "with open('../resources/Apresentação.txt', 'r') as text_file:\n",
    "    text_data = text_file.read()"
   ]
  },
  {
   "cell_type": "code",
   "execution_count": 6,
   "metadata": {},
   "outputs": [],
   "source": [
    "text_doc = {\n",
    "    'content':str(latin_text_preprocessing(text_data)),\n",
    "    'keywords':tfidf_keyword_extraction(text_data),\n",
    "    'relevant_phrases':text_most_relevant_prhases_extraction(text_data),\n",
    "    'programming_languages':extract_programming_language(text_data)\n",
    "}"
   ]
  },
  {
   "cell_type": "code",
   "execution_count": 7,
   "metadata": {},
   "outputs": [
    {
     "data": {
      "text/plain": [
       "{'content': 'Sistemas desenvolvidos para a plataforma web utilizam a linguagem HTML para a exibição de conteúdo, tanto para páginas estáticas como dinâmicas. Com HTML5 é possível criar páginas web com diversos recursos para a apresentação de dados por meio de novas marcações que permitem o uso de semântica e acessibilidade, facilitando a pesquisa por motores de busca automática e dispositivos próprios para deficientes visuais e auditivos.\\n\\nNesta Unidade de Aprendizagem, você vai estudar a estrutura de páginas web, a formatação de texto em documentos hipertexto e a apresentação de links, listas e tabelas em HTML5.\\n\\nBons estudos.\\n\\nAo final desta Unidade de Aprendizagem, você deve apresentar os seguintes aprendizados:\\nDefinir a estrutura de uma página web com HTML5.\\nAplicar formatação de texto em uma página web com HTML5.\\nDesenvolver listas e tabelas em uma página web com HTML5.',\n",
       " 'keywords': ['página',\n",
       "  'web',\n",
       "  'html5',\n",
       "  'aprendizagem',\n",
       "  'apresentação',\n",
       "  'desenvolver',\n",
       "  'estrutura',\n",
       "  'formatação',\n",
       "  'lista',\n",
       "  'tabela'],\n",
       " 'relevant_phrases': ['Com HTML5 é possível criar páginas web com diversos recursos para a apresentação de dados por meio de novas marcações que permitem o uso de semântica e acessibilidade, facilitando a pesquisa por motores de busca automática e dispositivos próprios para deficientes visuais e auditivos.\\n\\n',\n",
       "  'Nesta Unidade de Aprendizagem, você vai estudar a estrutura de páginas web, a formatação de texto em documentos hipertexto e a apresentação de links, listas e tabelas em HTML5.\\n\\n',\n",
       "  'Sistemas desenvolvidos para a plataforma web utilizam a linguagem HTML para a exibição de conteúdo, tanto para páginas estáticas como dinâmicas.',\n",
       "  'Ao final desta Unidade de Aprendizagem, você deve apresentar os seguintes aprendizados:\\n',\n",
       "  'Aplicar formatação de texto em uma página web com HTML5.\\n',\n",
       "  'Definir a estrutura de uma página web com HTML5.\\n',\n",
       "  'Desenvolver listas e tabelas em uma página web com HTML5.',\n",
       "  'Bons estudos.\\n\\n'],\n",
       " 'programming_languages': ['html', 'html5']}"
      ]
     },
     "execution_count": 7,
     "metadata": {},
     "output_type": "execute_result"
    }
   ],
   "source": [
    "text_doc"
   ]
  },
  {
   "cell_type": "code",
   "execution_count": 8,
   "metadata": {},
   "outputs": [],
   "source": [
    "# es.indices.create(index='textos', body={\n",
    "#     'mappings': {\n",
    "#         'properties': {\n",
    "#             'conteudo': {'type': 'text'},\n",
    "#             'keywords': {'type': 'keyword'},\n",
    "#             'relevant_phrases': {'type': 'keyword'},\n",
    "#         }\n",
    "#     }\n",
    "#     }, ignore=400)\n",
    "\n",
    "# es.index(index='textos', body=text_doc)"
   ]
  },
  {
   "cell_type": "markdown",
   "metadata": {},
   "source": [
    "### 1.2 Pré-processamento de PDF"
   ]
  },
  {
   "cell_type": "markdown",
   "metadata": {},
   "source": [
    "**Estratégia de extração de palavras-chave**: YAKE (Yet another keyword extractor) \\\n",
    "**Estratégia de extração de autor do texto**: NER ( Named Entity Recognition)\n",
    "\n",
    "\n",
    "As funções se encontram no módulo source/text_utils.py"
   ]
  },
  {
   "cell_type": "code",
   "execution_count": 9,
   "metadata": {},
   "outputs": [],
   "source": [
    "from text_utils import yake_keyword_extraction, ner_author_extractor\n",
    "from PyPDF2 import PdfReader"
   ]
  },
  {
   "cell_type": "markdown",
   "metadata": {},
   "source": [
    "##### Execução"
   ]
  },
  {
   "cell_type": "code",
   "execution_count": 10,
   "metadata": {},
   "outputs": [
    {
     "name": "stderr",
     "output_type": "stream",
     "text": [
      "unknown widths : \n",
      "[0, IndirectObject(176, 0, 1701729483344)]\n"
     ]
    }
   ],
   "source": [
    "with open('../resources/Capítulo do Livro.pdf', 'rb') as pdf_file:\n",
    "    # Criação do objeto PdfReader\n",
    "    pdf_reader = PdfReader(pdf_file)\n",
    "\n",
    "    extracted_text = \"\"\n",
    "\n",
    "    # Extração do texto do pdf por páginas\n",
    "    for page_num in range(len(pdf_reader.pages)):\n",
    "        page = pdf_reader.pages[page_num]\n",
    "        extracted_text += page.extract_text()"
   ]
  },
  {
   "cell_type": "code",
   "execution_count": 11,
   "metadata": {},
   "outputs": [],
   "source": [
    "pdf_doc = {\n",
    "    'author':ner_author_extractor(extracted_text),\n",
    "    'content':extracted_text,\n",
    "    'keywords':yake_keyword_extraction(extracted_text),\n",
    "    'programming_languages':extract_programming_language(extracted_text)\n",
    "}"
   ]
  },
  {
   "cell_type": "code",
   "execution_count": 12,
   "metadata": {},
   "outputs": [
    {
     "data": {
      "text/plain": [
       "{'author': 'Maurício de Oliveira Saraiva',\n",
       " 'content': 'DESENVOLVIMENTO \\nDE SISTEMAS PHP \\nMaurício de Oliveira Saraiva Criação de páginas web \\ncom HTML5\\nObjetivos de aprendizagem\\nAo final deste texto, você deve apresentar os seguintes aprendizados:\\n \\x84Definir a estrutura de uma página web com HTML5.\\n \\x84Aplicar a formatação de texto em uma página web com HTML5.\\n \\x84Desenvolver listas e tabelas em uma página web com HTML5.\\nIntrodução\\nSistemas desenvolvidos para a plataforma web, tanto para páginas es -\\ntáticas como dinâmicas, utilizam a linguagem HTML para a exibição \\ndo conteúdo. Com HTML5, é possível criar páginas web com diversos \\nrecursos para a apresentação de dados, por meio de novas marcações \\nque permitem o uso de semântica e acessibilidade. Isso facilita a pesquisa \\npor motores de busca automática, dispositivos próprios para deficientes \\nvisuais e auditivos, entre outros.\\nNeste capítulo, você vai estudar a estrutura de páginas web, a for -\\nmatação de texto em documentos hipertexto e apresentação de links, \\nlistas e tabelas em HTML5.\\nEstrutura de uma página web com HTML5\\nHTML, do inglês hyper text markup language , ou linguagem de marcação \\nde hipertexto, é uma linguagem utilizada para criar documentos para a web. \\nEsses documentos, que também são chamados de páginas, podem conter \\nmarcações que permitem visualizar e acessar conteúdos web em geral, como textos, imagens, áudios e vídeos entre outros (SILVA, 2015).\\nA versão 5 do HTML, ou simplesmente HTML5, foi publicada em 2014 \\npelo World Wide Web Consortium (W3C). W3C é uma comunidade interna -\\ncional que possui diversos participantes colaborando para o desenvolvimento de padrões da web, como as especificações HTML, XML, CSS, etc. (CON -\\nSÓRCIO..., c2011).\\nSaiba mais sobre o W3C e as especificações mantidas \\npela comunidade acessando o endereço a seguir \\n(CONSÓRCIO…, c201 1).\\nhttps://goo.gl/VHQ5n\\nA exibição de uma página HTML pode ser feita por um programa de \\ncomputador chamado navegador web ou simplesmente navegador ou  browser . \\nExistem diversos navegadores disponíveis no mercado, como Chrome, \\n Internet Explorer, Firefox, Safari, Opera, Edge, entre outros. No entanto, é \\npreciso ter cuidado com as marcações inseridas nas páginas, uma vez que, \\ndevido às diversas versões existentes dos navegadores, alguns conteúdos \\npodem não ser exibidos corretamente, caso o navegador do usuário esteja \\ndesatualizado.\\nAs marcações de uma página HTML representam mais que a apresentação \\nvisual do conteúdo. Ao acessar um conteúdo web, você consegue identificar os \\nelementos visualmente, pela sua formatação, como títulos em letras maiores, \\ndados de cabeçalho e rodapé, idioma, áreas da página e outros.\\nContudo, a informação na web não é acessada apenas por pessoas, já que \\no conteúdo pode ser lido por diversos meios, como motores de busca automá -\\ntica, dispositivos próprios para deficientes visuais e auditivos, equipamentosportáteis com diferentes tamanhos de tela, etc. (EIS; FERREIRA, 2012).\\nCom base nisso, no HTML5 foram incluídos alguns elementos que \\npermitem a leitura e a interpretação da estrutura de uma página web de \\nforma organizada e segura. Essa organização é definida por elementos \\nsemânticos, que dão significado aos objetos de uma página, conforme \\nvocê verá a seguir.Criação de páginas web com HTML5\\n 2Principais elementos da estrutura de uma página HTML5\\nComo dito anteriormente, uma página HTML é composta por marcações. Essas \\nmarcações estão inseridas no documento dentro de itens específicos chamados \\nde tags, etiquetas ou elementos, que respeitam uma estrutura hierárquica bem \\ndefinida. A Figura 1 apresenta essa estrutura.\\nFigura 1. Estrutura básica de uma página HTML5.\\nDoctype\\nA instrução DOCTYPE, apresentada na linha 1, é um comando especial que \\nindica ao navegador a versão do documento HTML. Nas versões anteriores ao \\nHTML5, era necessário informar o número da versão, contudo, na versão 5, \\nisso não é mais necessário, bastando informar < !DOCTYPE html > para que \\nos navegadores a interpretem como uma página HTML5.\\nHtml\\nA tag <html >, indicada na linha 2, representa a marcação de nível mais \\nelevado de uma página HTML. Essa tag envolve outras tags que pertencem \\nà estrutura básica de um documento HTML, como < head > e <body >, que \\nserão apresentadas na sequência. Essas tags devem ser “fechadas” com suas \\nrespectivas tags de encerramento: < /head >, </body > e </html >, conforme \\nilustrado nas linhas 6, 8 e 9, respectivamente.\\nHead\\nO conteúdo pertencente à tag < head >, expresso entre as linhas 3 e 6, deve \\nconter informações que são interpretadas pelo navegador, como o título < ti-\\ntle>, a codificação do idioma < meta > e a inclusão de arquivos CSS < link >.\\n3 Criação de páginas web com HTML5Title\\nA tag <title >, ilustrada na linha 4, serve para indicar o título da página\\nque será apresentado na barra de título ou na aba documento do navegador. \\nJá a tag <meta >, indicada na linha 5, serve para configurar o idioma de\\napresentação de caracteres da página. Nesse caso, charset= “utf-8”  \\nindica que o navegador deve exibir os caracteres do idioma português, como \\ncedilha e acentos.\\nA linguagem HTML não é case sensitive , como a linguagens C e Java que diferen -\\nciam letras maiúsculas de minúsculas. Isso significa que não faz diferença escrever \\nas tags em maiúsculo ou minúsculo, desde que os comandos estejam corretos. No \\nentanto, alguns comandos são escritos de determinada forma por padrão de escrita. \\nAlém disso, tanto faz identificar as instruções com aspas simples ou duplas, uma vez que os navegadores estão preparados para interpretar os dois modos, por exemplo, \\ncharset= “utf-8”  ou charset= ‘utf-8’ .\\nBody\\nA tag  <body > engloba o corpo do documento HTML, ou seja, é dentro dessa \\ntag que você deve inserir todo o conteúdo da página que será exibido pelo \\nnavegador. No HTML5, a tag  <body > ganhou seis novas tags , incluídas para \\norganizar e permitir pesquisas semânticas mais eficientes por sistemas de busca \\nautomatizados: < section >, <header >, <aside >, <nav>, <article > e\\n<footer >, conforme apresentado na Figura 2.\\nFigura 2. Estrutura da tag < body > no HTML5.\\nCriação de páginas web com HTML5\\n 4Section\\nO elemento < section > define uma seção ou área da página. Esse elemento \\nsubstitui grande parte das tags  <div> e <span > que eram usadas de ma -\\nneira genérica para a mesma finalidade no HTML4 ou anterior. Uma página \\nHTML5 pode conter várias seções, que podem representar as mais diversas \\náreas de um site.\\nArticle\\nO conteúdo principal de uma página HTML5 deve estar localizado dentro \\nda tag <article >. Essa tag representa um bloco que contém o conteúdo \\nprincipal do site, como texto, redação e demais informações.\\nHeader e footer\\nAs tags <header > e <footer > representam os cabeçalhos e rodapés, res -\\npectivamente. Essas tags  podem pertencer a mais de uma área, como seções \\nou a própria página principal. Os cabeçalhos armazenam informações que se \\nlocalizam no topo da página ou das seções e os rodapés contém dados que se \\nencontram no final da página ou das seções.\\nNav e aside\\nUma área de links pode ser delimitada pelo elemento  <nav>, que especifica \\natalhos para o próprio documento ou para outras páginas. Já a tag  <aside > \\nindica uma área que não pertence ao fluxo principal, como um anúncio, por \\nexemplo.\\nFormatação de texto de uma página web com \\nHTML5\\nA especificação HTML5 disponibiliza uma série de elementos para formatar \\ntextos e criar links e âncoras em páginas web. Para realizar isso você deve \\nusar tags específicas que permitem formatar os elementos de forma padrão, \\nvisando equilibrar o código com a semântica do HTML5.\\n5 Criação de páginas web com HTML5Formatação de texto\\nUma página web exibe seu conteúdo texto diferente da forma como é es -\\ncrito no código-fonte HTML. Essa diferença se dá porque seu conteúdo \\nrequer marcações específicas nos objetos para realizar a formatação, ou \\nseja, é preciso que você insira tags para definir a forma como os textos \\nsão apresentados.\\nParágrafo\\nO elemento < p> indica a marcação de um parágrafo no texto, inserindo, \\nautomaticamente, uma quebra de linha ao final quando localiza a tag < /p>, \\nque indica o fechamento do parágrafo. Sem esses elementos, qualquer texto \\nem uma página HTML será escrito em sequência, mesmo que você insira \\nquebras de linha no código-fonte pressionando a tecla enter . Veja a aplicação \\nde parágrafos na Figura 3.\\nFigura 3. Parágrafos.\\nA tag <br / > cria uma quebra de linha no texto, forçando a continuação \\ndo texto na próxima linha. Esse comando pode ser observado na linha 2.\\nO elemento < pre> define que o texto será apresentado no navegador tal \\nqual está digitado no código-fonte HTML, respeitando os espaços em branco \\ne as quebras de linhas. Note como os espaços presentes no início do parágrafo \\n(linhas 5 e 7) do texto que está formatado com a tag < pre> são respeitados \\npelo navegador.\\nNa Figura 4 você pode ver um exemplo da exibição de parágrafos no \\nnavegador.Criação de páginas web com HTML5\\n 6Figura 4. Exibição dos parágrafos no navegador.\\nTítulos\\nExistem seis níveis de títulos que definem o tamanho do texto. Esses níveis \\nsão definidos pelos elementos < h1>, <h2>, <h3>, <h4>, <h5> e <h6>, que \\nformatam o texto desde um tamanho maior até um tamanho menor, conforme \\nrepresentado nas Figuras 5 e 6. \\nFigura 5. Títulos em HTML.\\nFigura 6. Exibição de títulos no navegador.\\n7 Criação de páginas web com HTML5Estilos de texto\\nEstilos como negrito, itálico, excluído, inserido, marcado, sobrescrito e subs -\\ncrito podem ser aplicados para formatar o texto, conforme você pode observar \\nnas Figuras 7 e 8. Esses estilos permitem aplicar ou retirar a ênfase de partes \\ndo conteúdo, de modo que o navegador consiga interpretar o destaque aplicado, \\nindependentemente do dispositivo e de sua configuração de tamanho de tela \\n(FLATSCHART, 2011).\\nFigura 7. Estilos de texto.\\nFigura 8. Estilos exibidos no navegador.\\nCriação de páginas web com HTML5\\n 8Confira mais elementos de formatação de texto em \\nHTML5 no endereço a seguir (RIBEIRO, c2017).\\nhttps://goo.gl/AJwyQV\\nFolhas de estilo, links e âncoras\\nEm páginas HTML, os links ou hiperlinks  são importantes para carregar \\narquivos externos e fazer direcionamentos para outras páginas ou para pontos \\ndentro da própria página. Portanto, os links são usados para direcionar para \\nalgum lugar ou buscar alguma informação.\\nFolhas de estilo\\nUma página HTML pode carregar arquivos CSS, do inglês cascading style \\nsheets , ou folhas de estilo em cascata, que são usados para definir as folhas \\nde estilo das páginas, como cores, fontes, espaçamentos, etc. A definição do \\narquivo de folhas de estilo se dá pela tag < link >.\\n<link href=”estilo.css” rel=”stylesheet” >\\nO atributo rel=“stylesheet ” indica o que o arquivo é do tipo folhas de \\nestilo e o atributo href=“estilo.css”  representa o nome e o caminho do \\narquivo que será carregado na página. Se o caminho não for informado junto \\nao nome do arquivo, o navegador interpretará que o arquivo está no mesmo \\ndiretório da página HTML.\\nLinks\\nUm link é uma espécie de atalho que você pode colocar em um elemento \\n(palavra, frase, imagem, etc.) e que aponta ou direciona para algum objeto \\nna web, como uma página, uma figura, um vídeo ou qualquer endereço de \\ninternet. Veja um exemplo na Figura 9.\\n9 Criação de páginas web com HTML5Figura 9. Link.\\nA linha 1 define o endereço da tag <a> que a guia atual do navegador irá\\ncarregar no caso de uma ação de clique no link; a linha 2 estabelece a men -\\nsagem que será exibida pelo link no navegador; e a linha 3 faz o fechamento \\ndo elemento link, encerrando o comando.\\nDevemos usar caminho com URL completa quando fazemos links para páginas \\nexternas ao nosso site, como no caso de um link para o site do Governo Federal do \\nBrasil. Deve-se usar, contudo, o caminho relativo, nos casos em que o endereço se refere ao nosso próprio site, como um link para uma página que exibe a relação de \\nclientes cadastrados: \\nCaminho com URL completa:\\n \\x84<a href= “http://www.brasil.gov.br”>\\nCaminho relativo:\\n \\x84<a href= “/cliente/lista_cliente.php”>\\nOs links definidos pela tag < a> possuem atributos opcionais que definem\\no seu comportamento ou incluem informações adicionais. Os atributos mais\\nconhecidos são title , download , target  e mailto .\\nTitle\\nExibe uma mensagem como dica quando você posicionar o mouse sobre o \\nlink. Esse atributo serve para instruir os usuários sobre o conteúdo do link.\\n<a href=”http://www.brasil.gov.br” title=”Site oficial \\ndo Brasil”>Brasil</a >Criação de páginas web com HTML5\\n 10Download\\nForça o download automático do arquivo que está referenciado no link. Apesar \\nde forçar o download, permite que o usuário troque o nome do arquivo no \\nmomento de baixa-lo. Além disso, o comando permite que você sugira um \\nnovo nome para o arquivo, que pode ser diferente do seu nome original.\\n<a href= “relatorio _ vendas.docx” download= “rela -\\ntorio.docx”>Download</a >\\nNesse caso, o nome original do arquivo é relatorio_vendas.docx , mas a \\npágina HTML irá sugerir o nome relatorio.docx  para o usuário, no momento \\ndownload.\\nTarget\\nNo caso de um link para uma página HTML, o atributo target  define se \\nessa página será aberta na mesma aba ou em uma nova aba do navegador. \\nO atributo _ self  define na mesma aba ou janela, já o atributo _ blank  \\nestabelece uma nova aba ou janela.\\n< href= “relatório _ vendas.docx” target= \\n“ _ self”>Donwload</a >\\nE-mail\\nÉ possível criar um link para abrir programas de e-mail com alguns campos \\njá preenchidos, como o endereço do destinatário e o assunto. É importante \\ndestacar que esse comando apenas surtirá efeito se o usuário utilizar programas \\nclientes de e-mail, como o Outlook.\\n<a href= “mailto:endereco@dominio.com.\\nbr?subject=assunto da mensagem”>Enviar e-mail</a >\\nÂncoras\\nÂncoras são utilizadas para realizar o direcionamento para determinado local \\ndentro de uma mesma página HTML. Normalmente, esse recurso é utilizado \\nquando uma página possui vários links no topo e um vasto conteúdo restante \\nabaixo. Dessa forma, é possível acessar determinado conteúdo diretamente, \\nsem ter que passar por conteúdos que não são interessantes naquele momento \\n(FREEMAN; ROBSON, 2014).\\n11 Criação de páginas web com HTML5Uma página pode conter várias âncoras e em qualquer parte do documento. \\nIsso permite que você coloque âncoras que direcionem de volta ao topo da \\npágina, após ler determinado conteúdo que já havia sido direcionado por \\noutra âncora.\\nPara criar uma âncora, você deve escrever dois comandos em uma página \\nHTML: o primeiro é o posicionamento de um apelido  em um local desejado \\ndo documento, por meio da tag < a name >; e o segundo comando define um\\natalho para o apelido  que foi criado, representado pela tag < a href >, como\\nvocê pode ver na Figura 10.\\nFigura 10. Âncora.\\nAo clicar no atalho da linha 4, você será posicionado automaticamente \\nnos poemas de Cecília Meireles, sem ter que passar pelos poemas de Érico \\nVeríssimo e outros autores. Isso corre porque esse atalho aponta para o apelido \\ncecilia_meireles,  indicado na linha 11. Além disso, após ler os poemas de \\nCecília Meireles, você poderá voltar ao topo da página rapidamente, por meio \\ndo atalho topo  localizado na linha 14.\\nListas e tabelas de uma página web com HTML5\\nListas\\nUma lista em HTML equivale a um conjunto de elementos dispostos com \\nmarcadores em uma página. Essa disposição facilita a visualização de itens, Criação de páginas web com HTML5\\n 12por exemplo, uma relação de ingredientes de uma receita de culinária ou itens \\nde um sumário.\\nExistem três tipos de listas definidos na especificação HTML5: listas \\nnão ordenadas, listas ordenadas e listas de definição. Essas listas podem ser \\naninhadas em sublistas, inclusive com tipos diferentes (FLATSCHART, 2011).\\nLista não ordenada\\nUma lista não ordenada, ilustrada na Figura 11, representa uma relação \\nde itens com mesmo grau de importância, isto é, não existe uma ordem de \\nprioridade, pois os marcadores dos itens dessa lista são iguais para todos \\nos elementos. A tag da lista não ordenada é < ul> e cada item da lista é\\nindicado pela tag < li>.\\nFigura 11. Lista não ordenada.\\nNa Figura 12, você pode observar uma lista não ordenada no navegador.\\nFigura 12. Exibição de lista não ordenada no navegador.\\n13 Criação de páginas web com HTML5Lista ordenada\\nUma lista ordenada representa uma relação de itens identificados por uma \\nordem numérica, isto é, existe uma relação de prioridade, pois os marcadores \\ndos itens dessa lista estão dispostos em uma sequência. A tag da lista ordenada \\né <ol> e cada item da lista também é indicado pela tag < li>. Veja nas Figuras\\n13 e 14 as representações de uma lista ordenada.\\nFigura 13. Lista ordenada.\\nFigura 14. Exibição de lista ordenada no navegador.\\nLista de definição\\nUma lista de definição representa uma relação de itens ligados a subitens, \\ncomo uma espécie de glossário, porém sem apresentar qualquer marcador. A \\ntag da lista de definição é < dl>, cada item da lista é indicado pela tag <dt >\\ne seus respectivos subitens são representados pela tag < dd>. Observe as\\napresentações de uma lista de definição nas Figura 15 e 16.Criação de páginas web com HTML5\\n 14Figura 15. Lista de definição.\\nFigura 16. Exibição de lista de definição no navegador.\\nTabelas\\nTabelas são utilizadas para exibir um conteúdo tabulado em uma página \\nHTML, ou seja, uma tabela formata e apresenta os elementos dispostos em \\nlinhas e colunas. Para criar uma tabela você deve usar a tag < table >, seguida \\ndas tags que indicam a formação de linha < tr> e coluna < th> e <td> (th\\né usado para as colunas do cabeçalho e td, para as demais colunas da tabela) \\n(SI LVA, 2015).\\nTags agrupadoras definem áreas de cabeçalho < thead >, rodapé <tfoot >\\ne corpo da tabela < tbody >. Essas tags oferecem a vantagem de organizar e\\nseparar as áreas da tabela que podem ser apresentadas de modos diferentes, \\n15 Criação de páginas web com HTML5conforme as folhas de estilo utilizadas, além de permitir que os navegadores \\nrepitam os cabeçalhos quando são impressas tabelas com muitas páginas. Veja \\nos exemplos das Figura 17 e 18.\\nFigura 17. Tabela em HTML5.\\nFigura 18. Tabela apresentada no navegador.\\nCriação de páginas web com HTML5\\n 16O exemplo ilustrado apresenta os preços fictícios de alguns veículos em \\nforma de tabela de preços. Nesse exemplo, você pode encontrar os principais \\nitens de uma tabela, como linhas e colunas e os elementos de estrutura de \\ntabelas, como cabeçalho, rodapé e corpo.\\nNote que os elementos da estrutura da tabela não precisam, necessariamente, \\nestar dispostos em ordem, pois nesse exemplo os itens do rodapé (linhas 6 a \\n9) estão inseridos antes do corpo da tabela (linhas 12 a 23) no código-fonte.\\nIsso significa que o navegador faz a interpretação dos elementos da tabela e\\nos apresenta de forma correta, independentemente da ordem em que fora m\\nescritos.\\nO atributo opcional border (linha 1) define a largura da borda da tabela. Se \\nesse atributo for omitido, a tabela será exibida sem bordas, mantendo apenas a formatação do posicionamento dos elementos. Além desse atributo, outros \\ndois podem ser inseridos nas tags < tr> e <td | th >: rowspan  e colspan ,\\nque mesclam linhas e colunas, respectivamente.\\nCONSÓRCIO World Wide Web . São Paulo: W3C, c2011. Disponível em: <http://www.\\nw3c.br/Home/WebHome>. Acesso em: 30 out. 2017.\\nEIS, D.; FERREIRA, E. HTML5 e CSS3 : com farinha e pimenta. São Paulo: Lulu.com, 2012.\\nFLATSCHART, F. HTML5 : embarque imediato. Rio de Janeiro: Brasport, 2011.\\nFREEMAN, E.; ROBSON, E. Use a cabeça! Programação em HTML 5 . Rio de Janeiro: Alta \\nBooks, 2014.\\nRIBEIRO, R. Comandos e tags HTML5 . Rio de Janeiro: DevMedia, c2017. Disponível em: \\n<https://www.devmedia.com.br/comandos-e- tags-html5/23618>. Acesso em: 26 \\nnov. 2017.SILVA, M. S. Fundamentos de HTML5 e CSS3 . São Paulo: Novatec, 2015.\\n17 Criação de páginas web com HTML5Encerra aqui o trecho do livro disponibilizado para \\nesta Unidade de Aprendizagem. Na Biblioteca Virtual \\nda Instituição, você encontra a obra na íntegra. ',\n",
       " 'keywords': ['Oliveira Saraiva Criação',\n",
       "  'páginas web',\n",
       "  'HTML',\n",
       "  'PHP Maurício',\n",
       "  'Maurício de Oliveira',\n",
       "  'web',\n",
       "  'Figura',\n",
       "  'tag',\n",
       "  'Criação de páginas',\n",
       "  'lista',\n",
       "  'navegador',\n",
       "  'Criação',\n",
       "  'página HTML será',\n",
       "  'texto',\n",
       "  'elementos',\n",
       "  'link',\n",
       "  'mesma página HTML',\n",
       "  'conteúdo',\n",
       "  'documento HTML',\n",
       "  'tabela',\n",
       "  'lista ordenada',\n",
       "  'estrutura',\n",
       "  'linhas',\n",
       "  'World Wide Web',\n",
       "  'linguagem HTML',\n",
       "  'arquivo',\n",
       "  'itens',\n",
       "  'atributo',\n",
       "  'href',\n",
       "  'código-fonte HTML'],\n",
       " 'programming_languages': ['php', 'html5', 'html', 'c', 'java', 'r']}"
      ]
     },
     "execution_count": 12,
     "metadata": {},
     "output_type": "execute_result"
    }
   ],
   "source": [
    "pdf_doc"
   ]
  },
  {
   "cell_type": "markdown",
   "metadata": {},
   "source": [
    "### 1.3 Pré-processamento de vídeos"
   ]
  },
  {
   "cell_type": "markdown",
   "metadata": {},
   "source": [
    "#### 1.3.1 Extração do áudio e transcrição de áudio para texto"
   ]
  },
  {
   "cell_type": "code",
   "execution_count": 13,
   "metadata": {},
   "outputs": [],
   "source": [
    "from audio_video_utils import extract_audio, extract_video_metadata, transcribe_audio"
   ]
  },
  {
   "cell_type": "markdown",
   "metadata": {},
   "source": [
    "##### Execução"
   ]
  },
  {
   "cell_type": "code",
   "execution_count": 14,
   "metadata": {},
   "outputs": [],
   "source": [
    "video_file_path = \"../resources/Dica do professor.mp4\"\n",
    "audio_file_path = \"../resources/Audio_Dica_do_Professor.wav\""
   ]
  },
  {
   "cell_type": "code",
   "execution_count": 15,
   "metadata": {},
   "outputs": [],
   "source": [
    "# # Extração dos metadados do vídeo\n",
    "# video_doc = extract_video_metadata(video_file_path)\n",
    "\n",
    "# # Extração do áudio em .wav\n",
    "# extract_audio(video_file_path, audio_file_path)\n",
    "\n",
    "# # Extração da transcrição do vídeo\n",
    "# transcript = transcribe_audio(audio_file_path)\n",
    "\n",
    "# video_doc['content'] = transcript\n",
    "# video_doc['keywords']=tfidf_keyword_extraction(transcript),\n",
    "# video_doc['programming_languages']=extract_programming_language(transcript)"
   ]
  },
  {
   "cell_type": "code",
   "execution_count": 16,
   "metadata": {},
   "outputs": [],
   "source": [
    "#video_doc"
   ]
  },
  {
   "cell_type": "markdown",
   "metadata": {},
   "source": [
    "### 1.4 Pré-processamento de imagens"
   ]
  },
  {
   "cell_type": "code",
   "execution_count": 17,
   "metadata": {},
   "outputs": [
    {
     "ename": "ImportError",
     "evalue": "cannot import name 'extract_text_from_image' from 'image_utils' (c:\\Users\\Mototaxista\\Desktop\\Git gen ai\\challenge-artificial-intelligence\\source\\image_utils.py)",
     "output_type": "error",
     "traceback": [
      "\u001b[1;31m---------------------------------------------------------------------------\u001b[0m",
      "\u001b[1;31mImportError\u001b[0m                               Traceback (most recent call last)",
      "Cell \u001b[1;32mIn[17], line 2\u001b[0m\n\u001b[0;32m      1\u001b[0m \u001b[38;5;28;01mimport\u001b[39;00m \u001b[38;5;21;01mtorch\u001b[39;00m\n\u001b[1;32m----> 2\u001b[0m \u001b[38;5;28;01mfrom\u001b[39;00m \u001b[38;5;21;01mimage_utils\u001b[39;00m \u001b[38;5;28;01mimport\u001b[39;00m get_image_description, get_exif_data, extract_text_from_image\n",
      "\u001b[1;31mImportError\u001b[0m: cannot import name 'extract_text_from_image' from 'image_utils' (c:\\Users\\Mototaxista\\Desktop\\Git gen ai\\challenge-artificial-intelligence\\source\\image_utils.py)"
     ]
    }
   ],
   "source": [
    "import torch\n",
    "from image_utils import get_image_description, get_exif_data, extract_text_from_image"
   ]
  },
  {
   "cell_type": "code",
   "execution_count": null,
   "metadata": {},
   "outputs": [
    {
     "name": "stdout",
     "output_type": "stream",
     "text": [
      "Descrição: captura de ecrã de um ecrã de computador que apresenta uma lista de diferentes idiomas\n"
     ]
    },
    {
     "ename": "NameError",
     "evalue": "name 'Image' is not defined",
     "output_type": "error",
     "traceback": [
      "\u001b[1;31m---------------------------------------------------------------------------\u001b[0m",
      "\u001b[1;31mNameError\u001b[0m                                 Traceback (most recent call last)",
      "Cell \u001b[1;32mIn[18], line 40\u001b[0m\n\u001b[0;32m     38\u001b[0m \u001b[38;5;66;03m# Exemplo de uso\u001b[39;00m\n\u001b[0;32m     39\u001b[0m image_path \u001b[38;5;241m=\u001b[39m \u001b[38;5;124m'\u001b[39m\u001b[38;5;124m../resources/Infografico-1.jpg\u001b[39m\u001b[38;5;124m'\u001b[39m\n\u001b[1;32m---> 40\u001b[0m \u001b[43mprocess_image\u001b[49m\u001b[43m(\u001b[49m\u001b[43mimage_path\u001b[49m\u001b[43m)\u001b[49m\n",
      "Cell \u001b[1;32mIn[18], line 30\u001b[0m, in \u001b[0;36mprocess_image\u001b[1;34m(image_path)\u001b[0m\n\u001b[0;32m     27\u001b[0m \u001b[38;5;28mprint\u001b[39m(\u001b[38;5;124mf\u001b[39m\u001b[38;5;124m'\u001b[39m\u001b[38;5;124mDescrição: \u001b[39m\u001b[38;5;132;01m{\u001b[39;00mdescription\u001b[38;5;132;01m}\u001b[39;00m\u001b[38;5;124m'\u001b[39m)\n\u001b[0;32m     29\u001b[0m \u001b[38;5;66;03m# Texto extraído da imagem\u001b[39;00m\n\u001b[1;32m---> 30\u001b[0m text \u001b[38;5;241m=\u001b[39m \u001b[43mextract_text_from_image\u001b[49m\u001b[43m(\u001b[49m\u001b[43mimage_path\u001b[49m\u001b[43m)\u001b[49m\n\u001b[0;32m     31\u001b[0m \u001b[38;5;28mprint\u001b[39m(\u001b[38;5;124mf\u001b[39m\u001b[38;5;124m'\u001b[39m\u001b[38;5;124mTexto: \u001b[39m\u001b[38;5;132;01m{\u001b[39;00mtext\u001b[38;5;132;01m}\u001b[39;00m\u001b[38;5;124m'\u001b[39m)\n\u001b[0;32m     33\u001b[0m \u001b[38;5;66;03m# Metadados EXIF\u001b[39;00m\n",
      "Cell \u001b[1;32mIn[18], line 7\u001b[0m, in \u001b[0;36mextract_text_from_image\u001b[1;34m(image_path)\u001b[0m\n\u001b[0;32m      4\u001b[0m model \u001b[38;5;241m=\u001b[39m VisionEncoderDecoderModel\u001b[38;5;241m.\u001b[39mfrom_pretrained(\u001b[38;5;124m\"\u001b[39m\u001b[38;5;124mnaver-clova-ix/donut-base\u001b[39m\u001b[38;5;124m\"\u001b[39m)\n\u001b[0;32m      6\u001b[0m \u001b[38;5;66;03m# Load and preprocess the image\u001b[39;00m\n\u001b[1;32m----> 7\u001b[0m image \u001b[38;5;241m=\u001b[39m \u001b[43mImage\u001b[49m\u001b[38;5;241m.\u001b[39mopen(image_path)\u001b[38;5;241m.\u001b[39mconvert(\u001b[38;5;124m\"\u001b[39m\u001b[38;5;124mRGB\u001b[39m\u001b[38;5;124m\"\u001b[39m)\n\u001b[0;32m      8\u001b[0m pixel_values \u001b[38;5;241m=\u001b[39m processor(images\u001b[38;5;241m=\u001b[39mimage, return_tensors\u001b[38;5;241m=\u001b[39m\u001b[38;5;124m\"\u001b[39m\u001b[38;5;124mpt\u001b[39m\u001b[38;5;124m\"\u001b[39m)\u001b[38;5;241m.\u001b[39mpixel_values\n\u001b[0;32m      9\u001b[0m \u001b[38;5;28mprint\u001b[39m(pixel_values, \u001b[38;5;124m\"\u001b[39m\u001b[38;5;124m pixel values1\u001b[39m\u001b[38;5;124m\"\u001b[39m)\n",
      "\u001b[1;31mNameError\u001b[0m: name 'Image' is not defined"
     ]
    }
   ],
   "source": [
    "\n",
    "\n",
    "\n",
    "def process_image(image_path):\n",
    "    # Descrição do conteúdo visual\n",
    "    description = get_image_description(image_path)\n",
    "    print(f'Descrição: {description}')\n",
    "    \n",
    "    # Texto extraído da imagem\n",
    "    text = extract_text_from_image(image_path)\n",
    "    print(f'Texto: {text}')\n",
    "    \n",
    "    # Metadados EXIF\n",
    "    exif_data = get_exif_data(image_path)\n",
    "\n",
    "    print(f'Metadados EXIF: {exif_data}')\n",
    "\n",
    "# Exemplo de uso\n",
    "image_path = '../resources/Infografico-1.jpg'\n",
    "process_image(image_path)"
   ]
  },
  {
   "cell_type": "code",
   "execution_count": null,
   "metadata": {},
   "outputs": [
    {
     "ename": "TesseractNotFoundError",
     "evalue": "tesseract is not installed or it's not in your PATH. See README file for more information.",
     "output_type": "error",
     "traceback": [
      "\u001b[1;31m---------------------------------------------------------------------------\u001b[0m",
      "\u001b[1;31mFileNotFoundError\u001b[0m                         Traceback (most recent call last)",
      "File \u001b[1;32mc:\\Users\\Mototaxista\\Desktop\\Git gen ai\\challenge-artificial-intelligence\\.venv\\Lib\\site-packages\\pytesseract\\pytesseract.py:255\u001b[0m, in \u001b[0;36mrun_tesseract\u001b[1;34m(input_filename, output_filename_base, extension, lang, config, nice, timeout)\u001b[0m\n\u001b[0;32m    254\u001b[0m \u001b[38;5;28;01mtry\u001b[39;00m:\n\u001b[1;32m--> 255\u001b[0m     proc \u001b[38;5;241m=\u001b[39m \u001b[43msubprocess\u001b[49m\u001b[38;5;241;43m.\u001b[39;49m\u001b[43mPopen\u001b[49m\u001b[43m(\u001b[49m\u001b[43mcmd_args\u001b[49m\u001b[43m,\u001b[49m\u001b[43m \u001b[49m\u001b[38;5;241;43m*\u001b[39;49m\u001b[38;5;241;43m*\u001b[39;49m\u001b[43msubprocess_args\u001b[49m\u001b[43m(\u001b[49m\u001b[43m)\u001b[49m\u001b[43m)\u001b[49m\n\u001b[0;32m    256\u001b[0m \u001b[38;5;28;01mexcept\u001b[39;00m \u001b[38;5;167;01mOSError\u001b[39;00m \u001b[38;5;28;01mas\u001b[39;00m e:\n",
      "File \u001b[1;32m~\\AppData\\Local\\Programs\\Python\\Python311\\Lib\\subprocess.py:1024\u001b[0m, in \u001b[0;36mPopen.__init__\u001b[1;34m(self, args, bufsize, executable, stdin, stdout, stderr, preexec_fn, close_fds, shell, cwd, env, universal_newlines, startupinfo, creationflags, restore_signals, start_new_session, pass_fds, user, group, extra_groups, encoding, errors, text, umask, pipesize, process_group)\u001b[0m\n\u001b[0;32m   1021\u001b[0m             \u001b[38;5;28mself\u001b[39m\u001b[38;5;241m.\u001b[39mstderr \u001b[38;5;241m=\u001b[39m io\u001b[38;5;241m.\u001b[39mTextIOWrapper(\u001b[38;5;28mself\u001b[39m\u001b[38;5;241m.\u001b[39mstderr,\n\u001b[0;32m   1022\u001b[0m                     encoding\u001b[38;5;241m=\u001b[39mencoding, errors\u001b[38;5;241m=\u001b[39merrors)\n\u001b[1;32m-> 1024\u001b[0m     \u001b[38;5;28;43mself\u001b[39;49m\u001b[38;5;241;43m.\u001b[39;49m\u001b[43m_execute_child\u001b[49m\u001b[43m(\u001b[49m\u001b[43margs\u001b[49m\u001b[43m,\u001b[49m\u001b[43m \u001b[49m\u001b[43mexecutable\u001b[49m\u001b[43m,\u001b[49m\u001b[43m \u001b[49m\u001b[43mpreexec_fn\u001b[49m\u001b[43m,\u001b[49m\u001b[43m \u001b[49m\u001b[43mclose_fds\u001b[49m\u001b[43m,\u001b[49m\n\u001b[0;32m   1025\u001b[0m \u001b[43m                        \u001b[49m\u001b[43mpass_fds\u001b[49m\u001b[43m,\u001b[49m\u001b[43m \u001b[49m\u001b[43mcwd\u001b[49m\u001b[43m,\u001b[49m\u001b[43m \u001b[49m\u001b[43menv\u001b[49m\u001b[43m,\u001b[49m\n\u001b[0;32m   1026\u001b[0m \u001b[43m                        \u001b[49m\u001b[43mstartupinfo\u001b[49m\u001b[43m,\u001b[49m\u001b[43m \u001b[49m\u001b[43mcreationflags\u001b[49m\u001b[43m,\u001b[49m\u001b[43m \u001b[49m\u001b[43mshell\u001b[49m\u001b[43m,\u001b[49m\n\u001b[0;32m   1027\u001b[0m \u001b[43m                        \u001b[49m\u001b[43mp2cread\u001b[49m\u001b[43m,\u001b[49m\u001b[43m \u001b[49m\u001b[43mp2cwrite\u001b[49m\u001b[43m,\u001b[49m\n\u001b[0;32m   1028\u001b[0m \u001b[43m                        \u001b[49m\u001b[43mc2pread\u001b[49m\u001b[43m,\u001b[49m\u001b[43m \u001b[49m\u001b[43mc2pwrite\u001b[49m\u001b[43m,\u001b[49m\n\u001b[0;32m   1029\u001b[0m \u001b[43m                        \u001b[49m\u001b[43merrread\u001b[49m\u001b[43m,\u001b[49m\u001b[43m \u001b[49m\u001b[43merrwrite\u001b[49m\u001b[43m,\u001b[49m\n\u001b[0;32m   1030\u001b[0m \u001b[43m                        \u001b[49m\u001b[43mrestore_signals\u001b[49m\u001b[43m,\u001b[49m\n\u001b[0;32m   1031\u001b[0m \u001b[43m                        \u001b[49m\u001b[43mgid\u001b[49m\u001b[43m,\u001b[49m\u001b[43m \u001b[49m\u001b[43mgids\u001b[49m\u001b[43m,\u001b[49m\u001b[43m \u001b[49m\u001b[43muid\u001b[49m\u001b[43m,\u001b[49m\u001b[43m \u001b[49m\u001b[43mumask\u001b[49m\u001b[43m,\u001b[49m\n\u001b[0;32m   1032\u001b[0m \u001b[43m                        \u001b[49m\u001b[43mstart_new_session\u001b[49m\u001b[43m,\u001b[49m\u001b[43m \u001b[49m\u001b[43mprocess_group\u001b[49m\u001b[43m)\u001b[49m\n\u001b[0;32m   1033\u001b[0m \u001b[38;5;28;01mexcept\u001b[39;00m:\n\u001b[0;32m   1034\u001b[0m     \u001b[38;5;66;03m# Cleanup if the child failed starting.\u001b[39;00m\n",
      "File \u001b[1;32m~\\AppData\\Local\\Programs\\Python\\Python311\\Lib\\subprocess.py:1509\u001b[0m, in \u001b[0;36mPopen._execute_child\u001b[1;34m(self, args, executable, preexec_fn, close_fds, pass_fds, cwd, env, startupinfo, creationflags, shell, p2cread, p2cwrite, c2pread, c2pwrite, errread, errwrite, unused_restore_signals, unused_gid, unused_gids, unused_uid, unused_umask, unused_start_new_session, unused_process_group)\u001b[0m\n\u001b[0;32m   1508\u001b[0m \u001b[38;5;28;01mtry\u001b[39;00m:\n\u001b[1;32m-> 1509\u001b[0m     hp, ht, pid, tid \u001b[38;5;241m=\u001b[39m \u001b[43m_winapi\u001b[49m\u001b[38;5;241;43m.\u001b[39;49m\u001b[43mCreateProcess\u001b[49m\u001b[43m(\u001b[49m\u001b[43mexecutable\u001b[49m\u001b[43m,\u001b[49m\u001b[43m \u001b[49m\u001b[43margs\u001b[49m\u001b[43m,\u001b[49m\n\u001b[0;32m   1510\u001b[0m \u001b[43m                             \u001b[49m\u001b[38;5;66;43;03m# no special security\u001b[39;49;00m\n\u001b[0;32m   1511\u001b[0m \u001b[43m                             \u001b[49m\u001b[38;5;28;43;01mNone\u001b[39;49;00m\u001b[43m,\u001b[49m\u001b[43m \u001b[49m\u001b[38;5;28;43;01mNone\u001b[39;49;00m\u001b[43m,\u001b[49m\n\u001b[0;32m   1512\u001b[0m \u001b[43m                             \u001b[49m\u001b[38;5;28;43mint\u001b[39;49m\u001b[43m(\u001b[49m\u001b[38;5;129;43;01mnot\u001b[39;49;00m\u001b[43m \u001b[49m\u001b[43mclose_fds\u001b[49m\u001b[43m)\u001b[49m\u001b[43m,\u001b[49m\n\u001b[0;32m   1513\u001b[0m \u001b[43m                             \u001b[49m\u001b[43mcreationflags\u001b[49m\u001b[43m,\u001b[49m\n\u001b[0;32m   1514\u001b[0m \u001b[43m                             \u001b[49m\u001b[43menv\u001b[49m\u001b[43m,\u001b[49m\n\u001b[0;32m   1515\u001b[0m \u001b[43m                             \u001b[49m\u001b[43mcwd\u001b[49m\u001b[43m,\u001b[49m\n\u001b[0;32m   1516\u001b[0m \u001b[43m                             \u001b[49m\u001b[43mstartupinfo\u001b[49m\u001b[43m)\u001b[49m\n\u001b[0;32m   1517\u001b[0m \u001b[38;5;28;01mfinally\u001b[39;00m:\n\u001b[0;32m   1518\u001b[0m     \u001b[38;5;66;03m# Child is launched. Close the parent's copy of those pipe\u001b[39;00m\n\u001b[0;32m   1519\u001b[0m     \u001b[38;5;66;03m# handles that only the child should have open.  You need\u001b[39;00m\n\u001b[1;32m   (...)\u001b[0m\n\u001b[0;32m   1522\u001b[0m     \u001b[38;5;66;03m# pipe will not close when the child process exits and the\u001b[39;00m\n\u001b[0;32m   1523\u001b[0m     \u001b[38;5;66;03m# ReadFile will hang.\u001b[39;00m\n",
      "\u001b[1;31mFileNotFoundError\u001b[0m: [WinError 2] O sistema não pode encontrar o arquivo especificado",
      "\nDuring handling of the above exception, another exception occurred:\n",
      "\u001b[1;31mTesseractNotFoundError\u001b[0m                    Traceback (most recent call last)",
      "Cell \u001b[1;32mIn[2], line 17\u001b[0m\n\u001b[0;32m     14\u001b[0m image_path \u001b[38;5;241m=\u001b[39m \u001b[38;5;124m'\u001b[39m\u001b[38;5;124m../resources/Infografico-1.jpg\u001b[39m\u001b[38;5;124m'\u001b[39m\n\u001b[0;32m     16\u001b[0m \u001b[38;5;66;03m# Extract text from image\u001b[39;00m\n\u001b[1;32m---> 17\u001b[0m extracted_text \u001b[38;5;241m=\u001b[39m \u001b[43mextract_text_from_image\u001b[49m\u001b[43m(\u001b[49m\u001b[43mimage_path\u001b[49m\u001b[43m)\u001b[49m\n\u001b[0;32m     19\u001b[0m \u001b[38;5;28mprint\u001b[39m(\u001b[38;5;124m\"\u001b[39m\u001b[38;5;124mExtracted Text:\u001b[39m\u001b[38;5;124m\"\u001b[39m, extracted_text)\n",
      "Cell \u001b[1;32mIn[2], line 9\u001b[0m, in \u001b[0;36mextract_text_from_image\u001b[1;34m(image_path)\u001b[0m\n\u001b[0;32m      6\u001b[0m img \u001b[38;5;241m=\u001b[39m Image\u001b[38;5;241m.\u001b[39mopen(image_path)\n\u001b[0;32m      8\u001b[0m \u001b[38;5;66;03m# Perform OCR using Tesseract\u001b[39;00m\n\u001b[1;32m----> 9\u001b[0m text \u001b[38;5;241m=\u001b[39m \u001b[43mpytesseract\u001b[49m\u001b[38;5;241;43m.\u001b[39;49m\u001b[43mimage_to_string\u001b[49m\u001b[43m(\u001b[49m\u001b[43mimg\u001b[49m\u001b[43m,\u001b[49m\u001b[43m \u001b[49m\u001b[43mlang\u001b[49m\u001b[38;5;241;43m=\u001b[39;49m\u001b[38;5;124;43m'\u001b[39;49m\u001b[38;5;124;43mpor\u001b[39;49m\u001b[38;5;124;43m'\u001b[39;49m\u001b[43m)\u001b[49m  \u001b[38;5;66;03m# Language code for Portuguese\u001b[39;00m\n\u001b[0;32m     11\u001b[0m \u001b[38;5;28;01mreturn\u001b[39;00m text\n",
      "File \u001b[1;32mc:\\Users\\Mototaxista\\Desktop\\Git gen ai\\challenge-artificial-intelligence\\.venv\\Lib\\site-packages\\pytesseract\\pytesseract.py:423\u001b[0m, in \u001b[0;36mimage_to_string\u001b[1;34m(image, lang, config, nice, output_type, timeout)\u001b[0m\n\u001b[0;32m    418\u001b[0m \u001b[38;5;250m\u001b[39m\u001b[38;5;124;03m\"\"\"\u001b[39;00m\n\u001b[0;32m    419\u001b[0m \u001b[38;5;124;03mReturns the result of a Tesseract OCR run on the provided image to string\u001b[39;00m\n\u001b[0;32m    420\u001b[0m \u001b[38;5;124;03m\"\"\"\u001b[39;00m\n\u001b[0;32m    421\u001b[0m args \u001b[38;5;241m=\u001b[39m [image, \u001b[38;5;124m'\u001b[39m\u001b[38;5;124mtxt\u001b[39m\u001b[38;5;124m'\u001b[39m, lang, config, nice, timeout]\n\u001b[1;32m--> 423\u001b[0m \u001b[38;5;28;01mreturn\u001b[39;00m \u001b[43m{\u001b[49m\n\u001b[0;32m    424\u001b[0m \u001b[43m    \u001b[49m\u001b[43mOutput\u001b[49m\u001b[38;5;241;43m.\u001b[39;49m\u001b[43mBYTES\u001b[49m\u001b[43m:\u001b[49m\u001b[43m \u001b[49m\u001b[38;5;28;43;01mlambda\u001b[39;49;00m\u001b[43m:\u001b[49m\u001b[43m \u001b[49m\u001b[43mrun_and_get_output\u001b[49m\u001b[43m(\u001b[49m\u001b[38;5;241;43m*\u001b[39;49m\u001b[43m(\u001b[49m\u001b[43margs\u001b[49m\u001b[43m \u001b[49m\u001b[38;5;241;43m+\u001b[39;49m\u001b[43m \u001b[49m\u001b[43m[\u001b[49m\u001b[38;5;28;43;01mTrue\u001b[39;49;00m\u001b[43m]\u001b[49m\u001b[43m)\u001b[49m\u001b[43m)\u001b[49m\u001b[43m,\u001b[49m\n\u001b[0;32m    425\u001b[0m \u001b[43m    \u001b[49m\u001b[43mOutput\u001b[49m\u001b[38;5;241;43m.\u001b[39;49m\u001b[43mDICT\u001b[49m\u001b[43m:\u001b[49m\u001b[43m \u001b[49m\u001b[38;5;28;43;01mlambda\u001b[39;49;00m\u001b[43m:\u001b[49m\u001b[43m \u001b[49m\u001b[43m{\u001b[49m\u001b[38;5;124;43m'\u001b[39;49m\u001b[38;5;124;43mtext\u001b[39;49m\u001b[38;5;124;43m'\u001b[39;49m\u001b[43m:\u001b[49m\u001b[43m \u001b[49m\u001b[43mrun_and_get_output\u001b[49m\u001b[43m(\u001b[49m\u001b[38;5;241;43m*\u001b[39;49m\u001b[43margs\u001b[49m\u001b[43m)\u001b[49m\u001b[43m}\u001b[49m\u001b[43m,\u001b[49m\n\u001b[0;32m    426\u001b[0m \u001b[43m    \u001b[49m\u001b[43mOutput\u001b[49m\u001b[38;5;241;43m.\u001b[39;49m\u001b[43mSTRING\u001b[49m\u001b[43m:\u001b[49m\u001b[43m \u001b[49m\u001b[38;5;28;43;01mlambda\u001b[39;49;00m\u001b[43m:\u001b[49m\u001b[43m \u001b[49m\u001b[43mrun_and_get_output\u001b[49m\u001b[43m(\u001b[49m\u001b[38;5;241;43m*\u001b[39;49m\u001b[43margs\u001b[49m\u001b[43m)\u001b[49m\u001b[43m,\u001b[49m\n\u001b[0;32m    427\u001b[0m \u001b[43m\u001b[49m\u001b[43m}\u001b[49m\u001b[43m[\u001b[49m\u001b[43moutput_type\u001b[49m\u001b[43m]\u001b[49m\u001b[43m(\u001b[49m\u001b[43m)\u001b[49m\n",
      "File \u001b[1;32mc:\\Users\\Mototaxista\\Desktop\\Git gen ai\\challenge-artificial-intelligence\\.venv\\Lib\\site-packages\\pytesseract\\pytesseract.py:426\u001b[0m, in \u001b[0;36mimage_to_string.<locals>.<lambda>\u001b[1;34m()\u001b[0m\n\u001b[0;32m    418\u001b[0m \u001b[38;5;250m\u001b[39m\u001b[38;5;124;03m\"\"\"\u001b[39;00m\n\u001b[0;32m    419\u001b[0m \u001b[38;5;124;03mReturns the result of a Tesseract OCR run on the provided image to string\u001b[39;00m\n\u001b[0;32m    420\u001b[0m \u001b[38;5;124;03m\"\"\"\u001b[39;00m\n\u001b[0;32m    421\u001b[0m args \u001b[38;5;241m=\u001b[39m [image, \u001b[38;5;124m'\u001b[39m\u001b[38;5;124mtxt\u001b[39m\u001b[38;5;124m'\u001b[39m, lang, config, nice, timeout]\n\u001b[0;32m    423\u001b[0m \u001b[38;5;28;01mreturn\u001b[39;00m {\n\u001b[0;32m    424\u001b[0m     Output\u001b[38;5;241m.\u001b[39mBYTES: \u001b[38;5;28;01mlambda\u001b[39;00m: run_and_get_output(\u001b[38;5;241m*\u001b[39m(args \u001b[38;5;241m+\u001b[39m [\u001b[38;5;28;01mTrue\u001b[39;00m])),\n\u001b[0;32m    425\u001b[0m     Output\u001b[38;5;241m.\u001b[39mDICT: \u001b[38;5;28;01mlambda\u001b[39;00m: {\u001b[38;5;124m'\u001b[39m\u001b[38;5;124mtext\u001b[39m\u001b[38;5;124m'\u001b[39m: run_and_get_output(\u001b[38;5;241m*\u001b[39margs)},\n\u001b[1;32m--> 426\u001b[0m     Output\u001b[38;5;241m.\u001b[39mSTRING: \u001b[38;5;28;01mlambda\u001b[39;00m: \u001b[43mrun_and_get_output\u001b[49m\u001b[43m(\u001b[49m\u001b[38;5;241;43m*\u001b[39;49m\u001b[43margs\u001b[49m\u001b[43m)\u001b[49m,\n\u001b[0;32m    427\u001b[0m }[output_type]()\n",
      "File \u001b[1;32mc:\\Users\\Mototaxista\\Desktop\\Git gen ai\\challenge-artificial-intelligence\\.venv\\Lib\\site-packages\\pytesseract\\pytesseract.py:288\u001b[0m, in \u001b[0;36mrun_and_get_output\u001b[1;34m(image, extension, lang, config, nice, timeout, return_bytes)\u001b[0m\n\u001b[0;32m    277\u001b[0m \u001b[38;5;28;01mwith\u001b[39;00m save(image) \u001b[38;5;28;01mas\u001b[39;00m (temp_name, input_filename):\n\u001b[0;32m    278\u001b[0m     kwargs \u001b[38;5;241m=\u001b[39m {\n\u001b[0;32m    279\u001b[0m         \u001b[38;5;124m'\u001b[39m\u001b[38;5;124minput_filename\u001b[39m\u001b[38;5;124m'\u001b[39m: input_filename,\n\u001b[0;32m    280\u001b[0m         \u001b[38;5;124m'\u001b[39m\u001b[38;5;124moutput_filename_base\u001b[39m\u001b[38;5;124m'\u001b[39m: temp_name,\n\u001b[1;32m   (...)\u001b[0m\n\u001b[0;32m    285\u001b[0m         \u001b[38;5;124m'\u001b[39m\u001b[38;5;124mtimeout\u001b[39m\u001b[38;5;124m'\u001b[39m: timeout,\n\u001b[0;32m    286\u001b[0m     }\n\u001b[1;32m--> 288\u001b[0m     \u001b[43mrun_tesseract\u001b[49m\u001b[43m(\u001b[49m\u001b[38;5;241;43m*\u001b[39;49m\u001b[38;5;241;43m*\u001b[39;49m\u001b[43mkwargs\u001b[49m\u001b[43m)\u001b[49m\n\u001b[0;32m    289\u001b[0m     filename \u001b[38;5;241m=\u001b[39m \u001b[38;5;124mf\u001b[39m\u001b[38;5;124m\"\u001b[39m\u001b[38;5;132;01m{\u001b[39;00mkwargs[\u001b[38;5;124m'\u001b[39m\u001b[38;5;124moutput_filename_base\u001b[39m\u001b[38;5;124m'\u001b[39m]\u001b[38;5;132;01m}\u001b[39;00m\u001b[38;5;132;01m{\u001b[39;00mextsep\u001b[38;5;132;01m}\u001b[39;00m\u001b[38;5;132;01m{\u001b[39;00mextension\u001b[38;5;132;01m}\u001b[39;00m\u001b[38;5;124m\"\u001b[39m\n\u001b[0;32m    290\u001b[0m     \u001b[38;5;28;01mwith\u001b[39;00m \u001b[38;5;28mopen\u001b[39m(filename, \u001b[38;5;124m'\u001b[39m\u001b[38;5;124mrb\u001b[39m\u001b[38;5;124m'\u001b[39m) \u001b[38;5;28;01mas\u001b[39;00m output_file:\n",
      "File \u001b[1;32mc:\\Users\\Mototaxista\\Desktop\\Git gen ai\\challenge-artificial-intelligence\\.venv\\Lib\\site-packages\\pytesseract\\pytesseract.py:260\u001b[0m, in \u001b[0;36mrun_tesseract\u001b[1;34m(input_filename, output_filename_base, extension, lang, config, nice, timeout)\u001b[0m\n\u001b[0;32m    258\u001b[0m         \u001b[38;5;28;01mraise\u001b[39;00m\n\u001b[0;32m    259\u001b[0m     \u001b[38;5;28;01melse\u001b[39;00m:\n\u001b[1;32m--> 260\u001b[0m         \u001b[38;5;28;01mraise\u001b[39;00m TesseractNotFoundError()\n\u001b[0;32m    262\u001b[0m \u001b[38;5;28;01mwith\u001b[39;00m timeout_manager(proc, timeout) \u001b[38;5;28;01mas\u001b[39;00m error_string:\n\u001b[0;32m    263\u001b[0m     \u001b[38;5;28;01mif\u001b[39;00m proc\u001b[38;5;241m.\u001b[39mreturncode:\n",
      "\u001b[1;31mTesseractNotFoundError\u001b[0m: tesseract is not installed or it's not in your PATH. See README file for more information."
     ]
    }
   ],
   "source": [
    "import pytesseract\n",
    "from PIL import Image\n",
    "\n",
    "def extract_text_from_image(image_path):\n",
    "    # Open the image\n",
    "    img = Image.open(image_path)\n",
    "    \n",
    "    # Perform OCR using Tesseract\n",
    "    text = pytesseract.image_to_string(img, lang='por')  # Language code for Portuguese\n",
    "    \n",
    "    return text\n",
    "\n",
    "# Path to your image\n",
    "image_path = '../resources/Infografico-1.jpg'\n",
    "\n",
    "# Extract text from image\n",
    "extracted_text = extract_text_from_image(image_path)\n",
    "\n",
    "print(\"Extracted Text:\", extracted_text)\n"
   ]
  }
 ],
 "metadata": {
  "kernelspec": {
   "display_name": ".venv",
   "language": "python",
   "name": "python3"
  },
  "language_info": {
   "codemirror_mode": {
    "name": "ipython",
    "version": 3
   },
   "file_extension": ".py",
   "mimetype": "text/x-python",
   "name": "python",
   "nbconvert_exporter": "python",
   "pygments_lexer": "ipython3",
   "version": "3.11.3"
  }
 },
 "nbformat": 4,
 "nbformat_minor": 2
}
